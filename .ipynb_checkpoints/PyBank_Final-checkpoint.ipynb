{
 "cells": [
  {
   "cell_type": "markdown",
   "metadata": {},
   "source": [
    "## PyBank\n",
    "\n",
    " You will give a set of financial data called [budget_data.csv](PyBank/Resources/budget_data.csv). \n",
    " \n",
    " The dataset is composed of two columns: `Date` and `Profit/Losses`. \n",
    "\n",
    "* Your task is to create a Python script that analyzes the records to calculate each of the following:\n",
    "\n",
    "  * The total number of months included in the dataset\n",
    "  * The net total amount of \"Profit/Losses\" over the entire period\n",
    "  * The average of the changes in \"Profit/Losses\" over the entire period\n",
    "  * The greatest increase in profits (date and amount) over the entire period\n",
    "  * The greatest decrease in losses (date and amount) over the entire period\n",
    "\n",
    "* As an example, your analysis should look similar to the one below:\n",
    "  ```text\n",
    "  Financial Analysis\n",
    "  ----------------------------\n",
    "  Total Months: 86\n",
    "  Total: $38382578\n",
    "  Average  Change: $-2315.12\n",
    "  Greatest Increase in Profits: Feb-2012 ($1926159)\n",
    "  Greatest Decrease in Profits: Sep-2013 ($-2196167)\n",
    "  ```\n",
    "\n",
    "* In addition, your final script should both print the analysis to the terminal and export a text file with the results."
   ]
  },
  {
   "cell_type": "code",
   "execution_count": 1,
   "metadata": {},
   "outputs": [],
   "source": [
    "#Dependencies \n",
    "import csv\n",
    "import os\n",
    "import copy\n",
    "import math\n",
    "from statistics import mean, median, mode, stdev\n",
    "import pandas as pd\n",
    "import numpy as np\n",
    "\n",
    "budgetdatapath = 'Data/budget_data.csv'\n",
    "results_output = 'Data/budgetanalysis.txt'\n",
    "\n",
    "        \n",
    "budgetdatadict = {\n",
    "    'Date':[],\n",
    "    'Profits/Losses':[]\n",
    "}      "
   ]
  },
  {
   "cell_type": "code",
   "execution_count": 2,
   "metadata": {},
   "outputs": [],
   "source": [
    "with open(budgetdatapath,newline=\"\") as csvfile:\n",
    "    csvreader = csv.reader(csvfile,delimiter=',')\n",
    "    csvheader = next(csvreader)\n",
    "    #total_months = total_months + 1\n",
    "    #total_net = total_net + int(first_row[1])\n",
    "    #prev_net = int(first_row[1])\n",
    "    for row in csvreader:\n",
    "        budgetdatadict['Date'].append(row[0])\n",
    "        budgetdatadict['Profits/Losses'].append(int(row[1]))\n",
    "        "
   ]
  },
  {
   "cell_type": "code",
   "execution_count": 3,
   "metadata": {},
   "outputs": [
    {
     "name": "stdout",
     "output_type": "stream",
     "text": [
      "86\n",
      "38382578.0\n"
     ]
    }
   ],
   "source": [
    "nettotal_profitlosses = 0.0\n",
    "#The total number of months included in the dataset\n",
    "totalmonths = len(budgetdatadict['Date'])\n",
    "\n",
    "#The net total amount of \"Profit/Losses\" over the entire period\n",
    "for row1 in budgetdatadict['Profits/Losses']:\n",
    "    nettotal_profitlosses = nettotal_profitlosses + float(row1)    \n",
    "    \n",
    "print(totalmonths)\n",
    "print(nettotal_profitlosses)"
   ]
  },
  {
   "cell_type": "markdown",
   "metadata": {},
   "source": [
    "#The average of the changes in \"Profit/Losses\" over the entire period\n",
    "#The greatest increase in profits (date and amount) over the entire period\n",
    "#The greatest decrease in losses (date and amount) over the entire period\n",
    "\n",
    "    #budgetdatadict['Date'][0][0:3] #Returns the first three letters of the month\n",
    "    #budgetdatadict['Date'][0][4:8] #Returns the current year"
   ]
  },
  {
   "cell_type": "code",
   "execution_count": 4,
   "metadata": {
    "scrolled": true
   },
   "outputs": [],
   "source": [
    "monthlist = []\n",
    "yearlist = []\n",
    "totalmonths = 0\n",
    "for month in range(len(budgetdatadict['Date'])):\n",
    "    monthlist.append(budgetdatadict['Date'][month][0:3])\n",
    "    yearlist.append(budgetdatadict['Date'][month][4:8])\n",
    "#monthlist\n",
    "#yearlist\n",
    "#np.unique(monthlist)\n",
    "uniqueyears = np.unique(yearlist)"
   ]
  },
  {
   "cell_type": "code",
   "execution_count": 5,
   "metadata": {},
   "outputs": [
    {
     "data": {
      "text/plain": [
       "86"
      ]
     },
     "execution_count": 5,
     "metadata": {},
     "output_type": "execute_result"
    }
   ],
   "source": [
    "totalmonths = len(budgetdatadict['Date'])\n",
    "totalmonths"
   ]
  },
  {
   "cell_type": "code",
   "execution_count": 6,
   "metadata": {},
   "outputs": [
    {
     "name": "stdout",
     "output_type": "stream",
     "text": [
      "2010 Feb Jan 116771\n",
      "2010 Mar Feb -662642\n",
      "2010 Apr Mar -391430\n",
      "2010 May Apr 379920\n",
      "2010 Jun May 212354\n",
      "2010 Jul Jun 510239\n",
      "2010 Aug Jul -428211\n",
      "2010 Sep Aug -821271\n",
      "2010 Oct Sep 693918\n",
      "2010 Nov Oct 416278\n",
      "2010 Dec Nov -974163\n",
      "2010 Jan Dec 860159\n",
      "2011 2010 Jan Feb -1115009\n",
      "2011 Mar Feb 1033048\n",
      "2011 Apr Mar 95318\n",
      "2011 May Apr -308093\n",
      "2011 Jun May 99052\n",
      "2011 Jul Jun -521393\n",
      "2011 Aug Jul 605450\n",
      "2011 Sep Aug 231727\n",
      "2011 Oct Sep -65187\n",
      "2011 Nov Oct -702716\n",
      "2011 Dec Nov 177975\n",
      "2011 Jan Dec -1065544\n",
      "2012 2011 Jan Feb 1926159\n",
      "2012 Mar Feb -917805\n",
      "2012 Apr Mar 898730\n",
      "2012 May Apr -334262\n",
      "2012 Jun May -246499\n",
      "2012 Jul Jun -64055\n",
      "2012 Aug Jul -1529236\n",
      "2012 Sep Aug 1497596\n",
      "2012 Oct Sep 304914\n",
      "2012 Nov Oct -635801\n",
      "2012 Dec Nov 398319\n",
      "2012 Jan Dec -183161\n",
      "2013 2012 Jan Feb -37864\n",
      "2013 Mar Feb -253689\n",
      "2013 Apr Mar 403655\n",
      "2013 May Apr 94168\n",
      "2013 Jun May 306877\n",
      "2013 Jul Jun -83000\n",
      "2013 Aug Jul 210462\n",
      "2013 Sep Aug -2196167\n",
      "2013 Oct Sep 1465222\n",
      "2013 Nov Oct -956983\n",
      "2013 Dec Nov 1838447\n",
      "2013 Jan Dec -468003\n",
      "2014 2013 Jan Feb -64602\n",
      "2014 Mar Feb 206242\n",
      "2014 Apr Mar -242155\n",
      "2014 May Apr -449079\n",
      "2014 Jun May 315198\n",
      "2014 Jul Jun 241099\n",
      "2014 Aug Jul 111540\n",
      "2014 Sep Aug 365942\n",
      "2014 Oct Sep -219310\n",
      "2014 Nov Oct -368665\n",
      "2014 Dec Nov 409837\n",
      "2014 Jan Dec 151210\n",
      "2015 2014 Jan Feb -110244\n",
      "2015 Mar Feb -341938\n",
      "2015 Apr Mar -1212159\n",
      "2015 May Apr 683246\n",
      "2015 Jun May -70825\n",
      "2015 Jul Jun 335594\n",
      "2015 Aug Jul 417334\n",
      "2015 Sep Aug -272194\n",
      "2015 Oct Sep -236462\n",
      "2015 Nov Oct 657432\n",
      "2015 Dec Nov -211262\n",
      "2015 Jan Dec -128237\n",
      "2016 2015 Jan Feb -1750387\n",
      "2016 Mar Feb 925441\n",
      "2016 Apr Mar 932089\n",
      "2016 May Apr -311434\n",
      "2016 Jun May 267252\n",
      "2016 Jul Jun -1876758\n",
      "2016 Aug Jul 1733696\n",
      "2016 Sep Aug 198551\n",
      "2016 Oct Sep -665765\n",
      "2016 Nov Oct 693229\n",
      "2016 Dec Nov -734926\n",
      "2016 Jan Dec 77242\n",
      "2017 2016 Jan Feb 532869\n"
     ]
    }
   ],
   "source": [
    "currentyear = 0.0\n",
    "nextyear = 0.0\n",
    "yearlychange=0.0\n",
    "uniqueyearscounter = 0\n",
    "totalprofitlosses = 0\n",
    "month1 = ''\n",
    "month2 = ''\n",
    "year1 = ''\n",
    "year2 = ''\n",
    "monyear = ''\n",
    "yearchange = []\n",
    "proflosschange = []\n",
    "x = 0\n",
    "while x < 85:\n",
    "    if month1!= 'Dec':\n",
    "        currentyear = budgetdatadict['Profits/Losses'][x]\n",
    "        nextyear = budgetdatadict['Profits/Losses'][x+1] \n",
    "        yearlychange = nextyear-currentyear\n",
    "        proflosschange.append(yearlychange)\n",
    "        \n",
    "        month1 = budgetdatadict['Date'][x][0:3]\n",
    "        month2 = budgetdatadict['Date'][x+1][0:3]\n",
    "        year1 = uniqueyears[uniqueyearscounter]\n",
    "        year2 = uniqueyears[uniqueyearscounter]\n",
    "        monyear =(year1,month1,month2)\n",
    "        yearchange.append(monyear)\n",
    "        print(year1,month2,month1,yearlychange)\n",
    "        \n",
    "        x = x + 1\n",
    "    else: \n",
    "        currentyear = budgetdatadict['Profits/Losses'][x]\n",
    "        nextyear = budgetdatadict['Profits/Losses'][x+1] \n",
    "        yearlychange = nextyear-currentyear\n",
    "        proflosschange.append(yearlychange)\n",
    "        \n",
    "        month1 = budgetdatadict['Date'][x][0:3]\n",
    "        month2 = budgetdatadict['Date'][x+1][0:3]\n",
    "        year1 = uniqueyears[uniqueyearscounter]\n",
    "        year2 = uniqueyears[uniqueyearscounter+1]\n",
    "        monyear = (year2,year1,month2,month1)\n",
    "        yearchange.append(monyear)\n",
    "        uniqueyearscounter = uniqueyearscounter+1\n",
    "        print(year2,year1,month1,month2,yearlychange)\n",
    "        x = x + 1"
   ]
  },
  {
   "cell_type": "markdown",
   "metadata": {},
   "source": [
    "#The average of the changes in \"Profit/Losses\" over the entire period\n",
    "#The greatest increase in profits (date and amount) over the entire period\n",
    "#The greatest decrease in losses (date and amount) over the entire period"
   ]
  },
  {
   "cell_type": "code",
   "execution_count": 7,
   "metadata": {},
   "outputs": [
    {
     "name": "stdout",
     "output_type": "stream",
     "text": [
      "-196785\n",
      "1926159\n",
      "-2196167\n",
      "-2315.1176470588234\n"
     ]
    }
   ],
   "source": [
    "totalprofitlosses = sum(proflosschange)\n",
    "greatestincrease = max(proflosschange)\n",
    "greatestdecrease = min(proflosschange)\n",
    "averageprofloss = mean(proflosschange)\n",
    "print(totalprofitlosses)\n",
    "print(greatestincrease)\n",
    "print(greatestdecrease)\n",
    "print(averageprofloss)"
   ]
  },
  {
   "cell_type": "code",
   "execution_count": 8,
   "metadata": {},
   "outputs": [
    {
     "name": "stdout",
     "output_type": "stream",
     "text": [
      "('2012', '2011', 'Feb', 'Jan')\n",
      "('2013', 'Aug', 'Sep')\n"
     ]
    }
   ],
   "source": [
    "maxindex = proflosschange.index(1926159)\n",
    "minindex = proflosschange.index(-2196167)\n",
    "print(yearchange[maxindex])\n",
    "print(yearchange[minindex])"
   ]
  },
  {
   "cell_type": "markdown",
   "metadata": {},
   "source": [
    "```text\n",
    "  Financial Analysis\n",
    "  ----------------------------\n",
    "  Total Months: 86\n",
    "  Total: $38382578\n",
    "  Average  Change: $-2315.12\n",
    "  Greatest Increase in Profits: Feb-2012 ($1926159)\n",
    "  Greatest Decrease in Profits: Sep-2013 ($-2196167)\n",
    "  ```\n",
    "\n",
    "* In addition, your final script should both print the analysis to the terminal and export a text file with the results."
   ]
  },
  {
   "cell_type": "code",
   "execution_count": 9,
   "metadata": {},
   "outputs": [],
   "source": [
    "totalmonstr = 'Total Months:',totalmonths\n",
    "totalpl = 'Total:','$'+ str(totalprofitlosses), \n",
    "avgchange = 'Average Change:','$'+ str(averageprofloss)\n",
    "gincrease = 'Greatest Increase in Profits: ',str(yearchange[maxindex][2])+'-'+ str(yearchange[maxindex][0]),'$'+ str(greatestincrease)\n",
    "gdecrease = 'Greatest Decrease in Profits: ',str(yearchange[minindex][2])+'-'+str(yearchange[minindex][0]),'$'+str(greatestdecrease)"
   ]
  },
  {
   "cell_type": "code",
   "execution_count": 10,
   "metadata": {},
   "outputs": [
    {
     "name": "stdout",
     "output_type": "stream",
     "text": [
      "Financial Analysis \n",
      " ------------------------------ \n",
      " ('Total Months:', 86) \n",
      " ('Total:', '$-196785') \n",
      " ('Average Change:', '$-2315.1176470588234') \n",
      " ('Greatest Increase in Profits: ', 'Feb-2012', '$1926159') \n",
      " ('Greatest Decrease in Profits: ', 'Sep-2013', '$-2196167') \n",
      "\n"
     ]
    }
   ],
   "source": [
    "#Printing to Terminal\n",
    "print('Financial Analysis','\\n','------------------------------','\\n',totalmonstr,'\\n',totalpl,'\\n',avgchange,'\\n',gincrease,'\\n',gdecrease,'\\n')\n",
    "#Writing results to a text file\n",
    "with open(results_output,'w') as txt_file: \n",
    "    txt_file.write('Financial Analysis')\n",
    "    txt_file.write('\\n')\n",
    "    txt_file.write('-----------------------------')\n",
    "    txt_file.write('\\n')\n",
    "    txt_file.write(str(totalmonstr))\n",
    "    txt_file.write('\\n')\n",
    "    txt_file.write(str(totalpl))\n",
    "    txt_file.write('\\n')\n",
    "    txt_file.write(str(avgchange))\n",
    "    txt_file.write('\\n')\n",
    "    txt_file.write(str(gincrease))\n",
    "    txt_file.write('\\n')\n",
    "    txt_file.write(str(gdecrease))\n",
    "    txt_file.write('\\n')\n",
    "    "
   ]
  },
  {
   "cell_type": "code",
   "execution_count": 11,
   "metadata": {},
   "outputs": [
    {
     "data": {
      "text/plain": [
       "\"Financial Analysis\\n-----------------------------\\n('Total Months:', 86)\\n('Total:', '$-196785')\\n('Average Change:', '$-2315.1176470588234')\\n('Greatest Increase in Profits: ', 'Feb-2012', '$1926159')\\n('Greatest Decrease in Profits: ', 'Sep-2013', '$-2196167')\\n\""
      ]
     },
     "execution_count": 11,
     "metadata": {},
     "output_type": "execute_result"
    }
   ],
   "source": [
    "readfile = open(results_output,'r')\n",
    "readfile.read()"
   ]
  }
 ],
 "metadata": {
  "kernelspec": {
   "display_name": "Python 3",
   "language": "python",
   "name": "python3"
  },
  "language_info": {
   "codemirror_mode": {
    "name": "ipython",
    "version": 3
   },
   "file_extension": ".py",
   "mimetype": "text/x-python",
   "name": "python",
   "nbconvert_exporter": "python",
   "pygments_lexer": "ipython3",
   "version": "3.7.4"
  }
 },
 "nbformat": 4,
 "nbformat_minor": 2
}
