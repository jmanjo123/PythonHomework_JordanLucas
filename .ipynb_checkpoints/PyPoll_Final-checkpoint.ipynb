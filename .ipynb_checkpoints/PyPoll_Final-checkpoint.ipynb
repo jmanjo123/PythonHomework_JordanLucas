{
 "cells": [
  {
   "cell_type": "code",
   "execution_count": 1,
   "metadata": {},
   "outputs": [],
   "source": [
    "#The total number of votes cast\n",
    "    #A complete list of candidates who received votes\n",
    "      #The percentage of votes each candidate won\n",
    "          #The total number of votes each candidate won\n",
    "              #The winner of the election based on popular vote.\n",
    " #As an example, your analysis should look similar to the one below:\n",
    " # ```text\n",
    " # Election Results\n",
    " # -------------------------\n",
    " # Total Votes: 3521001\n",
    " # -------------------------\n",
    " # Khan: 63.000% (2218231)\n",
    " # Correy: 20.000% (704200)\n",
    " # Li: 14.000% (492940)\n",
    "#  O'Tooley: 3.000% (105630)\n",
    "#  -------------------------\n",
    " # Winner: Khan\n",
    " # -------------------------\n",
    "\n",
    "#In addition, your final script should both print the analysis to the terminal and export a text file with the results."
   ]
  },
  {
   "cell_type": "code",
   "execution_count": 2,
   "metadata": {},
   "outputs": [],
   "source": [
    "#Dependencies \n",
    "import csv\n",
    "import os\n",
    "import copy\n",
    "import math\n",
    "import statistics \n",
    "import pandas as pd\n",
    "import numpy as np"
   ]
  },
  {
   "cell_type": "code",
   "execution_count": 3,
   "metadata": {},
   "outputs": [],
   "source": [
    "#csv with the data - \"election_data.csv\"\n",
    "#----------------------------------------\n",
    "csvpath = 'Data/election_data.csv'\n",
    "fileoutput = 'Data/electionresultsoutput.txt'"
   ]
  },
  {
   "cell_type": "code",
   "execution_count": 4,
   "metadata": {},
   "outputs": [],
   "source": [
    "electiondata = []\n",
    "strconversion = ''\n",
    "with open(csvpath,newline = '') as csvfile:\n",
    "    \n",
    "    csvreader = csv.reader(csvfile,delimiter=\",\")\n",
    "    csvheader = next(csvreader)\n",
    "    \n",
    "    for row1 in csvreader: \n",
    "        electiondata.append(row1)"
   ]
  },
  {
   "cell_type": "code",
   "execution_count": 5,
   "metadata": {},
   "outputs": [
    {
     "data": {
      "text/html": [
       "<div>\n",
       "<style scoped>\n",
       "    .dataframe tbody tr th:only-of-type {\n",
       "        vertical-align: middle;\n",
       "    }\n",
       "\n",
       "    .dataframe tbody tr th {\n",
       "        vertical-align: top;\n",
       "    }\n",
       "\n",
       "    .dataframe thead th {\n",
       "        text-align: right;\n",
       "    }\n",
       "</style>\n",
       "<table border=\"1\" class=\"dataframe\">\n",
       "  <thead>\n",
       "    <tr style=\"text-align: right;\">\n",
       "      <th></th>\n",
       "      <th>Voter ID</th>\n",
       "      <th>County</th>\n",
       "    </tr>\n",
       "    <tr>\n",
       "      <th>Candidate</th>\n",
       "      <th></th>\n",
       "      <th></th>\n",
       "    </tr>\n",
       "  </thead>\n",
       "  <tbody>\n",
       "    <tr>\n",
       "      <td>Khan</td>\n",
       "      <td>12864552</td>\n",
       "      <td>Marsh</td>\n",
       "    </tr>\n",
       "    <tr>\n",
       "      <td>Correy</td>\n",
       "      <td>17444633</td>\n",
       "      <td>Marsh</td>\n",
       "    </tr>\n",
       "    <tr>\n",
       "      <td>Khan</td>\n",
       "      <td>19330107</td>\n",
       "      <td>Marsh</td>\n",
       "    </tr>\n",
       "    <tr>\n",
       "      <td>Khan</td>\n",
       "      <td>19865775</td>\n",
       "      <td>Queen</td>\n",
       "    </tr>\n",
       "    <tr>\n",
       "      <td>Khan</td>\n",
       "      <td>11927875</td>\n",
       "      <td>Marsh</td>\n",
       "    </tr>\n",
       "  </tbody>\n",
       "</table>\n",
       "</div>"
      ],
      "text/plain": [
       "           Voter ID County\n",
       "Candidate                 \n",
       "Khan       12864552  Marsh\n",
       "Correy     17444633  Marsh\n",
       "Khan       19330107  Marsh\n",
       "Khan       19865775  Queen\n",
       "Khan       11927875  Marsh"
      ]
     },
     "execution_count": 5,
     "metadata": {},
     "output_type": "execute_result"
    }
   ],
   "source": [
    "electiondf = pd.DataFrame(electiondata)\n",
    "electiondf.columns = ['Voter ID', 'County', 'Candidate']\n",
    "df_candidateindex = electiondf.set_index('Candidate')\n",
    "df_candidateindex.head()"
   ]
  },
  {
   "cell_type": "code",
   "execution_count": 6,
   "metadata": {},
   "outputs": [
    {
     "data": {
      "text/plain": [
       "3521001"
      ]
     },
     "execution_count": 6,
     "metadata": {},
     "output_type": "execute_result"
    }
   ],
   "source": [
    "#The total number of votes cast\n",
    "totalvotescast = len(electiondf)\n",
    "totalvotescast"
   ]
  },
  {
   "cell_type": "markdown",
   "metadata": {},
   "source": [
    "# A complete list of candidates who received votes\n",
    "CandidateVoteslist =[]\n",
    "CandidateVoteslist.append(electiondf.Candidate.unique())\n",
    "CandidateVoteslist\n",
    "candidatedf = pd.DataFrame(CandidateVoteslist)"
   ]
  },
  {
   "cell_type": "markdown",
   "metadata": {},
   "source": [
    "df = pd.DataFrame({'col1': [1, 2],\n",
    "                   'col2': [0.5, 0.75]},\n",
    "                  index=['row1', 'row2'])"
   ]
  },
  {
   "cell_type": "code",
   "execution_count": 7,
   "metadata": {},
   "outputs": [
    {
     "data": {
      "text/html": [
       "<div>\n",
       "<style scoped>\n",
       "    .dataframe tbody tr th:only-of-type {\n",
       "        vertical-align: middle;\n",
       "    }\n",
       "\n",
       "    .dataframe tbody tr th {\n",
       "        vertical-align: top;\n",
       "    }\n",
       "\n",
       "    .dataframe thead th {\n",
       "        text-align: right;\n",
       "    }\n",
       "</style>\n",
       "<table border=\"1\" class=\"dataframe\">\n",
       "  <thead>\n",
       "    <tr style=\"text-align: right;\">\n",
       "      <th></th>\n",
       "      <th>Candidate Votes</th>\n",
       "    </tr>\n",
       "  </thead>\n",
       "  <tbody>\n",
       "  </tbody>\n",
       "</table>\n",
       "</div>"
      ],
      "text/plain": [
       "Empty DataFrame\n",
       "Columns: [Candidate Votes]\n",
       "Index: []"
      ]
     },
     "execution_count": 7,
     "metadata": {},
     "output_type": "execute_result"
    }
   ],
   "source": [
    "candidatevotecount = electiondf['Candidate'].value_counts()\n",
    "#candidatevotecount_df = pd.DataFrame({'Candidate':['Khan','Correy','Li',\"O'Tooley\"],'# of Votes per Candidate':candidatevotecount})\n",
    "#candidatevotecount_df.rename(columns={'Candidate':'# of Votes per Candidate'},inplace = True)\n",
    "#candidatevotecount[0]\n",
    "candidatevotecountdf = pd.DataFrame({'Candidate Votes':[]})\n",
    "candidatevotecountdf"
   ]
  },
  {
   "cell_type": "code",
   "execution_count": 8,
   "metadata": {},
   "outputs": [],
   "source": [
    "candidatevotecount_dict = candidatevotecountdf.to_dict()\n",
    "#candidatevotecount_df\n",
    "candidatevotes = {\n",
    "    'Khan':candidatevotecount[0],\n",
    "    'Correy':candidatevotecount[1],\n",
    "    'Li':candidatevotecount[2],\n",
    "    \"O'Tooley\":candidatevotecount[3],\n",
    "}\n",
    "candidatevotecount_dict['Candidate Votes'] = candidatevotes\n",
    "candidatevotecount_df = pd.DataFrame(candidatevotecount_dict)"
   ]
  },
  {
   "cell_type": "code",
   "execution_count": 9,
   "metadata": {},
   "outputs": [
    {
     "data": {
      "text/html": [
       "<div>\n",
       "<style scoped>\n",
       "    .dataframe tbody tr th:only-of-type {\n",
       "        vertical-align: middle;\n",
       "    }\n",
       "\n",
       "    .dataframe tbody tr th {\n",
       "        vertical-align: top;\n",
       "    }\n",
       "\n",
       "    .dataframe thead th {\n",
       "        text-align: right;\n",
       "    }\n",
       "</style>\n",
       "<table border=\"1\" class=\"dataframe\">\n",
       "  <thead>\n",
       "    <tr style=\"text-align: right;\">\n",
       "      <th></th>\n",
       "      <th>Candidate Votes</th>\n",
       "    </tr>\n",
       "  </thead>\n",
       "  <tbody>\n",
       "    <tr>\n",
       "      <td>Correy</td>\n",
       "      <td>704200</td>\n",
       "    </tr>\n",
       "    <tr>\n",
       "      <td>Khan</td>\n",
       "      <td>2218231</td>\n",
       "    </tr>\n",
       "    <tr>\n",
       "      <td>Li</td>\n",
       "      <td>492940</td>\n",
       "    </tr>\n",
       "    <tr>\n",
       "      <td>O'Tooley</td>\n",
       "      <td>105630</td>\n",
       "    </tr>\n",
       "  </tbody>\n",
       "</table>\n",
       "</div>"
      ],
      "text/plain": [
       "          Candidate Votes\n",
       "Correy             704200\n",
       "Khan              2218231\n",
       "Li                 492940\n",
       "O'Tooley           105630"
      ]
     },
     "execution_count": 9,
     "metadata": {},
     "output_type": "execute_result"
    }
   ],
   "source": [
    "candidatevotecount_df"
   ]
  },
  {
   "cell_type": "markdown",
   "metadata": {},
   "source": [
    "#New method for dataframes\n",
    "candidatevotecount_df.set_index([pd.Index([0,1,2,3]),'Candidate'])"
   ]
  },
  {
   "cell_type": "code",
   "execution_count": 10,
   "metadata": {},
   "outputs": [
    {
     "data": {
      "text/plain": [
       "3521001"
      ]
     },
     "execution_count": 10,
     "metadata": {},
     "output_type": "execute_result"
    }
   ],
   "source": [
    "candidatevotecount_dict['Candidate Votes']\n",
    "candidatevotecountdf = pd.DataFrame(candidatevotecount_dict)\n",
    "totalvotes = candidatevotecountdf[\"Candidate Votes\"].sum()\n",
    "totalvotes"
   ]
  },
  {
   "cell_type": "code",
   "execution_count": 11,
   "metadata": {},
   "outputs": [
    {
     "data": {
      "text/plain": [
       "{'Khan': 63.00001050837531,\n",
       " 'Correy': 19.999994319797125,\n",
       " 'Li': 13.999996023857989,\n",
       " \"O'Tooley\": 2.999999147969569}"
      ]
     },
     "execution_count": 11,
     "metadata": {},
     "output_type": "execute_result"
    }
   ],
   "source": [
    "#The percentage of votes each candidate won\n",
    "candidatevotepercentage_dict = {\n",
    "    'Khan':(candidatevotecount_dict['Candidate Votes']['Khan']/totalvotes*100),\n",
    "    'Correy':(candidatevotecount_dict['Candidate Votes']['Correy']/totalvotes*100),\n",
    "    'Li':(candidatevotecount_dict['Candidate Votes']['Li']/totalvotes)*100,\n",
    "    \"O'Tooley\":(candidatevotecount_dict['Candidate Votes'][\"O'Tooley\"]/totalvotes*100),\n",
    "}\n",
    "candidatevotecount_dict.update(percentagecandidatevotes = candidatevotepercentage_dict) \n",
    "candidatevotecount_dict['percentagecandidatevotes']"
   ]
  },
  {
   "cell_type": "markdown",
   "metadata": {},
   "source": [
    "candidatecounty_dict = {\n",
    "    'Khan':(candidatevotecount_dict['Candidate Votes']['Khan']/totalvotes*100),\n",
    "    'Correy':(candidatevotecount_dict['Candidate Votes']['Correy']/totalvotes*100),\n",
    "    'Li':(candidatevotecount_dict['Candidate Votes']['Li']/totalvotes)*100,\n",
    "    \"O'Tooley\":(candidatevotecount_dict['Candidate Votes'][\"O'Tooley\"]/totalvotes*100),\n",
    "}\n",
    "for num1  in totalcdf: \n",
    "    totalnum.append((num1/100)*totalvotescast)\n",
    "totalnum"
   ]
  },
  {
   "cell_type": "code",
   "execution_count": 12,
   "metadata": {},
   "outputs": [
    {
     "data": {
      "text/html": [
       "<div>\n",
       "<style scoped>\n",
       "    .dataframe tbody tr th:only-of-type {\n",
       "        vertical-align: middle;\n",
       "    }\n",
       "\n",
       "    .dataframe tbody tr th {\n",
       "        vertical-align: top;\n",
       "    }\n",
       "\n",
       "    .dataframe thead th {\n",
       "        text-align: right;\n",
       "    }\n",
       "</style>\n",
       "<table border=\"1\" class=\"dataframe\">\n",
       "  <thead>\n",
       "    <tr style=\"text-align: right;\">\n",
       "      <th></th>\n",
       "      <th>Candidate Votes</th>\n",
       "      <th>percentagecandidatevotes</th>\n",
       "    </tr>\n",
       "  </thead>\n",
       "  <tbody>\n",
       "    <tr>\n",
       "      <td>Khan</td>\n",
       "      <td>2218231</td>\n",
       "      <td>63.000011</td>\n",
       "    </tr>\n",
       "    <tr>\n",
       "      <td>Correy</td>\n",
       "      <td>704200</td>\n",
       "      <td>19.999994</td>\n",
       "    </tr>\n",
       "    <tr>\n",
       "      <td>Li</td>\n",
       "      <td>492940</td>\n",
       "      <td>13.999996</td>\n",
       "    </tr>\n",
       "    <tr>\n",
       "      <td>O'Tooley</td>\n",
       "      <td>105630</td>\n",
       "      <td>2.999999</td>\n",
       "    </tr>\n",
       "  </tbody>\n",
       "</table>\n",
       "</div>"
      ],
      "text/plain": [
       "          Candidate Votes  percentagecandidatevotes\n",
       "Khan              2218231                 63.000011\n",
       "Correy             704200                 19.999994\n",
       "Li                 492940                 13.999996\n",
       "O'Tooley           105630                  2.999999"
      ]
     },
     "execution_count": 12,
     "metadata": {},
     "output_type": "execute_result"
    }
   ],
   "source": [
    "candidatevotesanalysis_df = pd.DataFrame(candidatevotecount_dict)\n",
    "#candidatevotesanalysis_df.rename()\n",
    "candidatevotesanalysis_df"
   ]
  },
  {
   "cell_type": "markdown",
   "metadata": {},
   "source": [
    "# The total number of votes each candidate won/countys"
   ]
  },
  {
   "cell_type": "code",
   "execution_count": 13,
   "metadata": {},
   "outputs": [
    {
     "data": {
      "text/html": [
       "<div>\n",
       "<style scoped>\n",
       "    .dataframe tbody tr th:only-of-type {\n",
       "        vertical-align: middle;\n",
       "    }\n",
       "\n",
       "    .dataframe tbody tr th {\n",
       "        vertical-align: top;\n",
       "    }\n",
       "\n",
       "    .dataframe thead th {\n",
       "        text-align: right;\n",
       "    }\n",
       "</style>\n",
       "<table border=\"1\" class=\"dataframe\">\n",
       "  <thead>\n",
       "    <tr style=\"text-align: right;\">\n",
       "      <th></th>\n",
       "      <th>Voter ID</th>\n",
       "      <th>County</th>\n",
       "      <th>Candidate</th>\n",
       "    </tr>\n",
       "  </thead>\n",
       "  <tbody>\n",
       "    <tr>\n",
       "      <td>0</td>\n",
       "      <td>12864552</td>\n",
       "      <td>Marsh</td>\n",
       "      <td>Khan</td>\n",
       "    </tr>\n",
       "    <tr>\n",
       "      <td>1</td>\n",
       "      <td>17444633</td>\n",
       "      <td>Marsh</td>\n",
       "      <td>Correy</td>\n",
       "    </tr>\n",
       "    <tr>\n",
       "      <td>2</td>\n",
       "      <td>19330107</td>\n",
       "      <td>Marsh</td>\n",
       "      <td>Khan</td>\n",
       "    </tr>\n",
       "    <tr>\n",
       "      <td>3</td>\n",
       "      <td>19865775</td>\n",
       "      <td>Queen</td>\n",
       "      <td>Khan</td>\n",
       "    </tr>\n",
       "    <tr>\n",
       "      <td>4</td>\n",
       "      <td>11927875</td>\n",
       "      <td>Marsh</td>\n",
       "      <td>Khan</td>\n",
       "    </tr>\n",
       "    <tr>\n",
       "      <td>5</td>\n",
       "      <td>19014606</td>\n",
       "      <td>Marsh</td>\n",
       "      <td>Li</td>\n",
       "    </tr>\n",
       "    <tr>\n",
       "      <td>6</td>\n",
       "      <td>17775191</td>\n",
       "      <td>Queen</td>\n",
       "      <td>Correy</td>\n",
       "    </tr>\n",
       "    <tr>\n",
       "      <td>7</td>\n",
       "      <td>14003692</td>\n",
       "      <td>Marsh</td>\n",
       "      <td>Khan</td>\n",
       "    </tr>\n",
       "    <tr>\n",
       "      <td>9</td>\n",
       "      <td>13870173</td>\n",
       "      <td>Marsh</td>\n",
       "      <td>Correy</td>\n",
       "    </tr>\n",
       "    <tr>\n",
       "      <td>11</td>\n",
       "      <td>10591158</td>\n",
       "      <td>Bamoo</td>\n",
       "      <td>Correy</td>\n",
       "    </tr>\n",
       "    <tr>\n",
       "      <td>14</td>\n",
       "      <td>17845903</td>\n",
       "      <td>Marsh</td>\n",
       "      <td>Correy</td>\n",
       "    </tr>\n",
       "    <tr>\n",
       "      <td>37</td>\n",
       "      <td>17094559</td>\n",
       "      <td>Marsh</td>\n",
       "      <td>Li</td>\n",
       "    </tr>\n",
       "    <tr>\n",
       "      <td>38</td>\n",
       "      <td>18233965</td>\n",
       "      <td>Marsh</td>\n",
       "      <td>Li</td>\n",
       "    </tr>\n",
       "    <tr>\n",
       "      <td>46</td>\n",
       "      <td>18121503</td>\n",
       "      <td>Bamoo</td>\n",
       "      <td>O'Tooley</td>\n",
       "    </tr>\n",
       "    <tr>\n",
       "      <td>53</td>\n",
       "      <td>16471243</td>\n",
       "      <td>Marsh</td>\n",
       "      <td>Li</td>\n",
       "    </tr>\n",
       "    <tr>\n",
       "      <td>54</td>\n",
       "      <td>14671650</td>\n",
       "      <td>Bamoo</td>\n",
       "      <td>Li</td>\n",
       "    </tr>\n",
       "    <tr>\n",
       "      <td>67</td>\n",
       "      <td>19288647</td>\n",
       "      <td>Queen</td>\n",
       "      <td>O'Tooley</td>\n",
       "    </tr>\n",
       "    <tr>\n",
       "      <td>157</td>\n",
       "      <td>16672147</td>\n",
       "      <td>Bamoo</td>\n",
       "      <td>O'Tooley</td>\n",
       "    </tr>\n",
       "    <tr>\n",
       "      <td>256</td>\n",
       "      <td>11399651</td>\n",
       "      <td>Marsh</td>\n",
       "      <td>O'Tooley</td>\n",
       "    </tr>\n",
       "    <tr>\n",
       "      <td>283</td>\n",
       "      <td>12425096</td>\n",
       "      <td>Marsh</td>\n",
       "      <td>O'Tooley</td>\n",
       "    </tr>\n",
       "  </tbody>\n",
       "</table>\n",
       "</div>"
      ],
      "text/plain": [
       "     Voter ID County Candidate\n",
       "0    12864552  Marsh      Khan\n",
       "1    17444633  Marsh    Correy\n",
       "2    19330107  Marsh      Khan\n",
       "3    19865775  Queen      Khan\n",
       "4    11927875  Marsh      Khan\n",
       "5    19014606  Marsh        Li\n",
       "6    17775191  Queen    Correy\n",
       "7    14003692  Marsh      Khan\n",
       "9    13870173  Marsh    Correy\n",
       "11   10591158  Bamoo    Correy\n",
       "14   17845903  Marsh    Correy\n",
       "37   17094559  Marsh        Li\n",
       "38   18233965  Marsh        Li\n",
       "46   18121503  Bamoo  O'Tooley\n",
       "53   16471243  Marsh        Li\n",
       "54   14671650  Bamoo        Li\n",
       "67   19288647  Queen  O'Tooley\n",
       "157  16672147  Bamoo  O'Tooley\n",
       "256  11399651  Marsh  O'Tooley\n",
       "283  12425096  Marsh  O'Tooley"
      ]
     },
     "execution_count": 13,
     "metadata": {},
     "output_type": "execute_result"
    }
   ],
   "source": [
    "countycandidatevotes = electiondf.groupby(['Candidate'])\n",
    "countycandidatevotes.head(5)"
   ]
  },
  {
   "cell_type": "code",
   "execution_count": 14,
   "metadata": {},
   "outputs": [],
   "source": [
    "candidatecountyv = countycandidatevotes['County'].value_counts()\n",
    "#countyd['County','Candidate'].head()"
   ]
  },
  {
   "cell_type": "code",
   "execution_count": 15,
   "metadata": {},
   "outputs": [
    {
     "data": {
      "text/html": [
       "<div>\n",
       "<style scoped>\n",
       "    .dataframe tbody tr th:only-of-type {\n",
       "        vertical-align: middle;\n",
       "    }\n",
       "\n",
       "    .dataframe tbody tr th {\n",
       "        vertical-align: top;\n",
       "    }\n",
       "\n",
       "    .dataframe thead th {\n",
       "        text-align: right;\n",
       "    }\n",
       "</style>\n",
       "<table border=\"1\" class=\"dataframe\">\n",
       "  <thead>\n",
       "    <tr style=\"text-align: right;\">\n",
       "      <th></th>\n",
       "      <th></th>\n",
       "      <th># of Counties Won</th>\n",
       "    </tr>\n",
       "    <tr>\n",
       "      <th>Candidate</th>\n",
       "      <th>County</th>\n",
       "      <th></th>\n",
       "    </tr>\n",
       "  </thead>\n",
       "  <tbody>\n",
       "    <tr>\n",
       "      <td rowspan=\"5\" valign=\"top\">Correy</td>\n",
       "      <td>Marsh</td>\n",
       "      <td>453015</td>\n",
       "    </tr>\n",
       "    <tr>\n",
       "      <td>Queen</td>\n",
       "      <td>139554</td>\n",
       "    </tr>\n",
       "    <tr>\n",
       "      <td>Bamoo</td>\n",
       "      <td>69752</td>\n",
       "    </tr>\n",
       "    <tr>\n",
       "      <td>Raffah</td>\n",
       "      <td>21055</td>\n",
       "    </tr>\n",
       "    <tr>\n",
       "      <td>Trandee</td>\n",
       "      <td>20824</td>\n",
       "    </tr>\n",
       "    <tr>\n",
       "      <td rowspan=\"5\" valign=\"top\">Khan</td>\n",
       "      <td>Marsh</td>\n",
       "      <td>1427142</td>\n",
       "    </tr>\n",
       "    <tr>\n",
       "      <td>Queen</td>\n",
       "      <td>439494</td>\n",
       "    </tr>\n",
       "    <tr>\n",
       "      <td>Bamoo</td>\n",
       "      <td>219834</td>\n",
       "    </tr>\n",
       "    <tr>\n",
       "      <td>Trandee</td>\n",
       "      <td>65939</td>\n",
       "    </tr>\n",
       "    <tr>\n",
       "      <td>Raffah</td>\n",
       "      <td>65822</td>\n",
       "    </tr>\n",
       "    <tr>\n",
       "      <td rowspan=\"5\" valign=\"top\">Li</td>\n",
       "      <td>Marsh</td>\n",
       "      <td>317651</td>\n",
       "    </tr>\n",
       "    <tr>\n",
       "      <td>Queen</td>\n",
       "      <td>97305</td>\n",
       "    </tr>\n",
       "    <tr>\n",
       "      <td>Bamoo</td>\n",
       "      <td>48639</td>\n",
       "    </tr>\n",
       "    <tr>\n",
       "      <td>Trandee</td>\n",
       "      <td>14741</td>\n",
       "    </tr>\n",
       "    <tr>\n",
       "      <td>Raffah</td>\n",
       "      <td>14604</td>\n",
       "    </tr>\n",
       "    <tr>\n",
       "      <td rowspan=\"5\" valign=\"top\">O'Tooley</td>\n",
       "      <td>Marsh</td>\n",
       "      <td>68149</td>\n",
       "    </tr>\n",
       "    <tr>\n",
       "      <td>Queen</td>\n",
       "      <td>20850</td>\n",
       "    </tr>\n",
       "    <tr>\n",
       "      <td>Bamoo</td>\n",
       "      <td>10433</td>\n",
       "    </tr>\n",
       "    <tr>\n",
       "      <td>Trandee</td>\n",
       "      <td>3113</td>\n",
       "    </tr>\n",
       "    <tr>\n",
       "      <td>Raffah</td>\n",
       "      <td>3085</td>\n",
       "    </tr>\n",
       "  </tbody>\n",
       "</table>\n",
       "</div>"
      ],
      "text/plain": [
       "                   # of Counties Won\n",
       "Candidate County                    \n",
       "Correy    Marsh               453015\n",
       "          Queen               139554\n",
       "          Bamoo                69752\n",
       "          Raffah               21055\n",
       "          Trandee              20824\n",
       "Khan      Marsh              1427142\n",
       "          Queen               439494\n",
       "          Bamoo               219834\n",
       "          Trandee              65939\n",
       "          Raffah               65822\n",
       "Li        Marsh               317651\n",
       "          Queen                97305\n",
       "          Bamoo                48639\n",
       "          Trandee              14741\n",
       "          Raffah               14604\n",
       "O'Tooley  Marsh                68149\n",
       "          Queen                20850\n",
       "          Bamoo                10433\n",
       "          Trandee               3113\n",
       "          Raffah                3085"
      ]
     },
     "execution_count": 15,
     "metadata": {},
     "output_type": "execute_result"
    }
   ],
   "source": [
    "candidatevotescounty_df = pd.DataFrame(candidatecountyv)\n",
    "candidatevotescounty_df.rename(columns={'County':'# of Counties Won'},inplace=True)\n",
    "candidatevotescounty_df "
   ]
  },
  {
   "cell_type": "code",
   "execution_count": 16,
   "metadata": {},
   "outputs": [
    {
     "data": {
      "text/html": [
       "<div>\n",
       "<style scoped>\n",
       "    .dataframe tbody tr th:only-of-type {\n",
       "        vertical-align: middle;\n",
       "    }\n",
       "\n",
       "    .dataframe tbody tr th {\n",
       "        vertical-align: top;\n",
       "    }\n",
       "\n",
       "    .dataframe thead th {\n",
       "        text-align: right;\n",
       "    }\n",
       "</style>\n",
       "<table border=\"1\" class=\"dataframe\">\n",
       "  <thead>\n",
       "    <tr style=\"text-align: right;\">\n",
       "      <th></th>\n",
       "      <th>Candidate</th>\n",
       "      <th>Candidate Votes</th>\n",
       "    </tr>\n",
       "  </thead>\n",
       "  <tbody>\n",
       "    <tr>\n",
       "      <td>0</td>\n",
       "      <td>Khan</td>\n",
       "      <td>NaN</td>\n",
       "    </tr>\n",
       "    <tr>\n",
       "      <td>1</td>\n",
       "      <td>Correy</td>\n",
       "      <td>NaN</td>\n",
       "    </tr>\n",
       "    <tr>\n",
       "      <td>2</td>\n",
       "      <td>Li</td>\n",
       "      <td>NaN</td>\n",
       "    </tr>\n",
       "    <tr>\n",
       "      <td>3</td>\n",
       "      <td>O'Tooley</td>\n",
       "      <td>NaN</td>\n",
       "    </tr>\n",
       "  </tbody>\n",
       "</table>\n",
       "</div>"
      ],
      "text/plain": [
       "  Candidate  Candidate Votes\n",
       "0      Khan              NaN\n",
       "1    Correy              NaN\n",
       "2        Li              NaN\n",
       "3  O'Tooley              NaN"
      ]
     },
     "execution_count": 16,
     "metadata": {},
     "output_type": "execute_result"
    }
   ],
   "source": [
    "uniquecandidate = pd.DataFrame(electiondf['Candidate'].unique())\n",
    "uniquecandidate['Candidate Votes'] = candidatevotesanalysis_df['Candidate Votes']\n",
    "uniquecandidate.rename(columns={0:'Candidate'},inplace=True)\n",
    "uniquecandidate"
   ]
  },
  {
   "cell_type": "code",
   "execution_count": 17,
   "metadata": {},
   "outputs": [
    {
     "data": {
      "text/html": [
       "<div>\n",
       "<style scoped>\n",
       "    .dataframe tbody tr th:only-of-type {\n",
       "        vertical-align: middle;\n",
       "    }\n",
       "\n",
       "    .dataframe tbody tr th {\n",
       "        vertical-align: top;\n",
       "    }\n",
       "\n",
       "    .dataframe thead th {\n",
       "        text-align: right;\n",
       "    }\n",
       "</style>\n",
       "<table border=\"1\" class=\"dataframe\">\n",
       "  <thead>\n",
       "    <tr style=\"text-align: right;\">\n",
       "      <th></th>\n",
       "      <th>Candidate Votes</th>\n",
       "      <th>percentagecandidatevotes</th>\n",
       "    </tr>\n",
       "  </thead>\n",
       "  <tbody>\n",
       "    <tr>\n",
       "      <td>Khan</td>\n",
       "      <td>2218231</td>\n",
       "      <td>63.000011</td>\n",
       "    </tr>\n",
       "    <tr>\n",
       "      <td>Correy</td>\n",
       "      <td>704200</td>\n",
       "      <td>19.999994</td>\n",
       "    </tr>\n",
       "    <tr>\n",
       "      <td>Li</td>\n",
       "      <td>492940</td>\n",
       "      <td>13.999996</td>\n",
       "    </tr>\n",
       "    <tr>\n",
       "      <td>O'Tooley</td>\n",
       "      <td>105630</td>\n",
       "      <td>2.999999</td>\n",
       "    </tr>\n",
       "  </tbody>\n",
       "</table>\n",
       "</div>"
      ],
      "text/plain": [
       "          Candidate Votes  percentagecandidatevotes\n",
       "Khan              2218231                 63.000011\n",
       "Correy             704200                 19.999994\n",
       "Li                 492940                 13.999996\n",
       "O'Tooley           105630                  2.999999"
      ]
     },
     "execution_count": 17,
     "metadata": {},
     "output_type": "execute_result"
    }
   ],
   "source": [
    "candidatevotesanalysis_df"
   ]
  },
  {
   "cell_type": "code",
   "execution_count": 18,
   "metadata": {},
   "outputs": [
    {
     "data": {
      "text/html": [
       "<div>\n",
       "<style scoped>\n",
       "    .dataframe tbody tr th:only-of-type {\n",
       "        vertical-align: middle;\n",
       "    }\n",
       "\n",
       "    .dataframe tbody tr th {\n",
       "        vertical-align: top;\n",
       "    }\n",
       "\n",
       "    .dataframe thead th {\n",
       "        text-align: right;\n",
       "    }\n",
       "</style>\n",
       "<table border=\"1\" class=\"dataframe\">\n",
       "  <thead>\n",
       "    <tr style=\"text-align: right;\">\n",
       "      <th></th>\n",
       "      <th>Candidate</th>\n",
       "      <th>Candidate Votes</th>\n",
       "      <th>percentagecandidatevotes</th>\n",
       "    </tr>\n",
       "  </thead>\n",
       "  <tbody>\n",
       "    <tr>\n",
       "      <td>0</td>\n",
       "      <td>Khan</td>\n",
       "      <td>NaN</td>\n",
       "      <td>NaN</td>\n",
       "    </tr>\n",
       "    <tr>\n",
       "      <td>1</td>\n",
       "      <td>Correy</td>\n",
       "      <td>NaN</td>\n",
       "      <td>NaN</td>\n",
       "    </tr>\n",
       "    <tr>\n",
       "      <td>2</td>\n",
       "      <td>Li</td>\n",
       "      <td>NaN</td>\n",
       "      <td>NaN</td>\n",
       "    </tr>\n",
       "    <tr>\n",
       "      <td>3</td>\n",
       "      <td>O'Tooley</td>\n",
       "      <td>NaN</td>\n",
       "      <td>NaN</td>\n",
       "    </tr>\n",
       "  </tbody>\n",
       "</table>\n",
       "</div>"
      ],
      "text/plain": [
       "  Candidate  Candidate Votes  percentagecandidatevotes\n",
       "0      Khan              NaN                       NaN\n",
       "1    Correy              NaN                       NaN\n",
       "2        Li              NaN                       NaN\n",
       "3  O'Tooley              NaN                       NaN"
      ]
     },
     "execution_count": 18,
     "metadata": {},
     "output_type": "execute_result"
    }
   ],
   "source": [
    "electionanalysismergeddf = pd.merge(uniquecandidate,candidatevotesanalysis_df,how='left')\n",
    "electionanalysismergeddf"
   ]
  },
  {
   "cell_type": "code",
   "execution_count": 19,
   "metadata": {},
   "outputs": [
    {
     "data": {
      "text/html": [
       "<div>\n",
       "<style scoped>\n",
       "    .dataframe tbody tr th:only-of-type {\n",
       "        vertical-align: middle;\n",
       "    }\n",
       "\n",
       "    .dataframe tbody tr th {\n",
       "        vertical-align: top;\n",
       "    }\n",
       "\n",
       "    .dataframe thead th {\n",
       "        text-align: right;\n",
       "    }\n",
       "</style>\n",
       "<table border=\"1\" class=\"dataframe\">\n",
       "  <thead>\n",
       "    <tr style=\"text-align: right;\">\n",
       "      <th></th>\n",
       "      <th>Voter ID</th>\n",
       "      <th>County</th>\n",
       "      <th>Candidate</th>\n",
       "    </tr>\n",
       "  </thead>\n",
       "  <tbody>\n",
       "    <tr>\n",
       "      <td>count</td>\n",
       "      <td>3521001</td>\n",
       "      <td>3521001</td>\n",
       "      <td>3521001</td>\n",
       "    </tr>\n",
       "    <tr>\n",
       "      <td>unique</td>\n",
       "      <td>3521001</td>\n",
       "      <td>5</td>\n",
       "      <td>4</td>\n",
       "    </tr>\n",
       "    <tr>\n",
       "      <td>top</td>\n",
       "      <td>13619633</td>\n",
       "      <td>Marsh</td>\n",
       "      <td>Khan</td>\n",
       "    </tr>\n",
       "    <tr>\n",
       "      <td>freq</td>\n",
       "      <td>1</td>\n",
       "      <td>2265957</td>\n",
       "      <td>2218231</td>\n",
       "    </tr>\n",
       "  </tbody>\n",
       "</table>\n",
       "</div>"
      ],
      "text/plain": [
       "        Voter ID   County Candidate\n",
       "count    3521001  3521001   3521001\n",
       "unique   3521001        5         4\n",
       "top     13619633    Marsh      Khan\n",
       "freq           1  2265957   2218231"
      ]
     },
     "execution_count": 19,
     "metadata": {},
     "output_type": "execute_result"
    }
   ],
   "source": [
    "#The winner of the election based on popular vote.\n",
    "electiondf.describe()"
   ]
  },
  {
   "cell_type": "code",
   "execution_count": 20,
   "metadata": {},
   "outputs": [
    {
     "data": {
      "text/plain": [
       "63.00001050837531"
      ]
     },
     "execution_count": 20,
     "metadata": {},
     "output_type": "execute_result"
    }
   ],
   "source": [
    "candidatevotecount_dict['percentagecandidatevotes']['Khan']"
   ]
  },
  {
   "cell_type": "code",
   "execution_count": 21,
   "metadata": {},
   "outputs": [
    {
     "name": "stdout",
     "output_type": "stream",
     "text": [
      "3521001 63.00001050837531 19.999994319797125 13.999996023857989 2.999999147969569\n"
     ]
    }
   ],
   "source": [
    "print(totalvotes,candidatevotecount_dict['percentagecandidatevotes']['Khan'],candidatevotecount_dict['percentagecandidatevotes']['Correy'],candidatevotecount_dict['percentagecandidatevotes']['Li'],candidatevotecount_dict['percentagecandidatevotes'][\"O'Tooley\"])"
   ]
  },
  {
   "cell_type": "code",
   "execution_count": 22,
   "metadata": {},
   "outputs": [
    {
     "data": {
      "text/html": [
       "<div>\n",
       "<style scoped>\n",
       "    .dataframe tbody tr th:only-of-type {\n",
       "        vertical-align: middle;\n",
       "    }\n",
       "\n",
       "    .dataframe tbody tr th {\n",
       "        vertical-align: top;\n",
       "    }\n",
       "\n",
       "    .dataframe thead th {\n",
       "        text-align: right;\n",
       "    }\n",
       "</style>\n",
       "<table border=\"1\" class=\"dataframe\">\n",
       "  <thead>\n",
       "    <tr style=\"text-align: right;\">\n",
       "      <th></th>\n",
       "      <th>Voter ID</th>\n",
       "      <th>County</th>\n",
       "      <th>Candidate</th>\n",
       "    </tr>\n",
       "  </thead>\n",
       "  <tbody>\n",
       "    <tr>\n",
       "      <td>count</td>\n",
       "      <td>3521001</td>\n",
       "      <td>3521001</td>\n",
       "      <td>3521001</td>\n",
       "    </tr>\n",
       "    <tr>\n",
       "      <td>unique</td>\n",
       "      <td>3521001</td>\n",
       "      <td>5</td>\n",
       "      <td>4</td>\n",
       "    </tr>\n",
       "    <tr>\n",
       "      <td>top</td>\n",
       "      <td>13619633</td>\n",
       "      <td>Marsh</td>\n",
       "      <td>Khan</td>\n",
       "    </tr>\n",
       "    <tr>\n",
       "      <td>freq</td>\n",
       "      <td>1</td>\n",
       "      <td>2265957</td>\n",
       "      <td>2218231</td>\n",
       "    </tr>\n",
       "  </tbody>\n",
       "</table>\n",
       "</div>"
      ],
      "text/plain": [
       "        Voter ID   County Candidate\n",
       "count    3521001  3521001   3521001\n",
       "unique   3521001        5         4\n",
       "top     13619633    Marsh      Khan\n",
       "freq           1  2265957   2218231"
      ]
     },
     "execution_count": 22,
     "metadata": {},
     "output_type": "execute_result"
    }
   ],
   "source": [
    "statsummarydf = electiondf.describe()\n",
    "statsummarydf\n",
    "#statsummarydf.loc['top'][2]"
   ]
  },
  {
   "cell_type": "code",
   "execution_count": 23,
   "metadata": {},
   "outputs": [],
   "source": [
    "electionresultsdict = {\n",
    "    'Total Votes:':totalvotes,\n",
    "    'Khan:':candidatevotecount_dict['percentagecandidatevotes']['Khan'],\n",
    "    'Correy:':candidatevotecount_dict['percentagecandidatevotes']['Correy'],\n",
    "    'Li:':candidatevotecount_dict['percentagecandidatevotes']['Li'],\n",
    "    \"O'Tooley:\":candidatevotecount_dict['percentagecandidatevotes'][\"O'Tooley\"],\n",
    "    \"Winner:\":statsummarydf.loc['top'][2],\n",
    "}"
   ]
  },
  {
   "cell_type": "markdown",
   "metadata": {},
   "source": [
    "# Final Dataframes \n",
    "#['Khan','Correy','Li',\"O'Tooley\"]\n",
    "candidatevotecount_df\n",
    "candidatevotesanalysis_df\n",
    "candidatevotescounty_df \n",
    "candidatevotecount_dict\n",
    "statsummarydf"
   ]
  },
  {
   "cell_type": "code",
   "execution_count": 24,
   "metadata": {},
   "outputs": [
    {
     "data": {
      "text/html": [
       "<div>\n",
       "<style scoped>\n",
       "    .dataframe tbody tr th:only-of-type {\n",
       "        vertical-align: middle;\n",
       "    }\n",
       "\n",
       "    .dataframe tbody tr th {\n",
       "        vertical-align: top;\n",
       "    }\n",
       "\n",
       "    .dataframe thead th {\n",
       "        text-align: right;\n",
       "    }\n",
       "</style>\n",
       "<table border=\"1\" class=\"dataframe\">\n",
       "  <thead>\n",
       "    <tr style=\"text-align: right;\">\n",
       "      <th></th>\n",
       "      <th>Election Results</th>\n",
       "    </tr>\n",
       "  </thead>\n",
       "  <tbody>\n",
       "    <tr>\n",
       "      <td>Correy:</td>\n",
       "      <td>20</td>\n",
       "    </tr>\n",
       "    <tr>\n",
       "      <td>Khan:</td>\n",
       "      <td>63</td>\n",
       "    </tr>\n",
       "    <tr>\n",
       "      <td>Li:</td>\n",
       "      <td>14</td>\n",
       "    </tr>\n",
       "    <tr>\n",
       "      <td>O'Tooley:</td>\n",
       "      <td>3</td>\n",
       "    </tr>\n",
       "    <tr>\n",
       "      <td>Total Votes:</td>\n",
       "      <td>3521001</td>\n",
       "    </tr>\n",
       "    <tr>\n",
       "      <td>Winner:</td>\n",
       "      <td>Khan</td>\n",
       "    </tr>\n",
       "  </tbody>\n",
       "</table>\n",
       "</div>"
      ],
      "text/plain": [
       "             Election Results\n",
       "Correy:                    20\n",
       "Khan:                      63\n",
       "Li:                        14\n",
       "O'Tooley:                   3\n",
       "Total Votes:          3521001\n",
       "Winner:                  Khan"
      ]
     },
     "execution_count": 24,
     "metadata": {},
     "output_type": "execute_result"
    }
   ],
   "source": [
    " # ```text\n",
    " # Election Results\n",
    " # -------------------------\n",
    " # Total Votes: 3521001\n",
    " # -------------------------\n",
    " # Khan: 63.000% (2218231)\n",
    " # Correy: 20.000% (704200)\n",
    " # Li: 14.000% (492940)\n",
    "#  O'Tooley: 3.000% (105630)\n",
    "#  -------------------------\n",
    " # Winner: Khan\n",
    " # -------------------------\n",
    "electionresults_dictionary = {\n",
    "    'Election Results':[]\n",
    "}\n",
    "electionresults_dictionary['Election Results'] = electionresultsdict\n",
    "electionresults = pd.DataFrame(electionresults_dictionary)\n",
    "electionresults"
   ]
  },
  {
   "cell_type": "code",
   "execution_count": 25,
   "metadata": {},
   "outputs": [
    {
     "data": {
      "text/html": [
       "<div>\n",
       "<style scoped>\n",
       "    .dataframe tbody tr th:only-of-type {\n",
       "        vertical-align: middle;\n",
       "    }\n",
       "\n",
       "    .dataframe tbody tr th {\n",
       "        vertical-align: top;\n",
       "    }\n",
       "\n",
       "    .dataframe thead th {\n",
       "        text-align: right;\n",
       "    }\n",
       "</style>\n",
       "<table border=\"1\" class=\"dataframe\">\n",
       "  <thead>\n",
       "    <tr style=\"text-align: right;\">\n",
       "      <th></th>\n",
       "      <th>Election Results</th>\n",
       "      <th>Index</th>\n",
       "    </tr>\n",
       "  </thead>\n",
       "  <tbody>\n",
       "    <tr>\n",
       "      <td>Correy:</td>\n",
       "      <td>20</td>\n",
       "      <td>0</td>\n",
       "    </tr>\n",
       "    <tr>\n",
       "      <td>Khan:</td>\n",
       "      <td>63</td>\n",
       "      <td>1</td>\n",
       "    </tr>\n",
       "    <tr>\n",
       "      <td>Li:</td>\n",
       "      <td>14</td>\n",
       "      <td>2</td>\n",
       "    </tr>\n",
       "    <tr>\n",
       "      <td>O'Tooley:</td>\n",
       "      <td>3</td>\n",
       "      <td>3</td>\n",
       "    </tr>\n",
       "    <tr>\n",
       "      <td>Total Votes:</td>\n",
       "      <td>3521001</td>\n",
       "      <td>4</td>\n",
       "    </tr>\n",
       "    <tr>\n",
       "      <td>Winner:</td>\n",
       "      <td>Khan</td>\n",
       "      <td>5</td>\n",
       "    </tr>\n",
       "  </tbody>\n",
       "</table>\n",
       "</div>"
      ],
      "text/plain": [
       "             Election Results  Index\n",
       "Correy:                    20      0\n",
       "Khan:                      63      1\n",
       "Li:                        14      2\n",
       "O'Tooley:                   3      3\n",
       "Total Votes:          3521001      4\n",
       "Winner:                  Khan      5"
      ]
     },
     "execution_count": 25,
     "metadata": {},
     "output_type": "execute_result"
    }
   ],
   "source": [
    "electionresults['Index']= [0,1,2,3,4,5]\n",
    "#electionresults.set_index('Index',inplace=True)\n",
    "electionresults_index = electionresults.index\n",
    "electionresults"
   ]
  },
  {
   "cell_type": "code",
   "execution_count": 26,
   "metadata": {},
   "outputs": [
    {
     "data": {
      "text/plain": [
       "{'Total Votes:': 3521001,\n",
       " 'Khan:': 63.00001050837531,\n",
       " 'Correy:': 19.999994319797125,\n",
       " 'Li:': 13.999996023857989,\n",
       " \"O'Tooley:\": 2.999999147969569,\n",
       " 'Winner:': 'Khan'}"
      ]
     },
     "execution_count": 26,
     "metadata": {},
     "output_type": "execute_result"
    }
   ],
   "source": [
    "electionresults_dictionary['Election Results']\n",
    "#electionresults_dictionary['Election Results']['Total Votes:']"
   ]
  },
  {
   "cell_type": "code",
   "execution_count": 27,
   "metadata": {},
   "outputs": [
    {
     "data": {
      "text/plain": [
       "Index(['Correy:', 'Khan:', 'Li:', 'O'Tooley:', 'Total Votes:', 'Winner:'], dtype='object')"
      ]
     },
     "execution_count": 27,
     "metadata": {},
     "output_type": "execute_result"
    }
   ],
   "source": [
    "electionresults_index"
   ]
  },
  {
   "cell_type": "markdown",
   "metadata": {},
   "source": [
    "electionresultsindex = electionresults.set_index('Index')\n",
    "x = 0\n",
    "print('Total Votes:',electionresultsindex.loc[0])\n",
    "print('-------------------------')\n",
    "while x < 5:\n",
    "    x = x + 1 \n",
    "    \n",
    "    if x == 1 and electionresults_index[x]== 'Correy':\n",
    "        print(electionresults_index[x], electionresultsindex.loc[x])\n",
    "        print('-------------------------')\n",
    "    elif x==2 and electionresults_index[x]== 'Khan' :\n",
    "        print(electionresults_index[x], electionresultsindex.loc[x])\n",
    "        print('-------------------------')\n",
    "    elif x==3 and electionresults_index[x]== 'Li' :\n",
    "        print(electionresults_index[x], electionresultsindex.loc[x])\n",
    "        print('-------------------------')\n",
    "        \n",
    "    elif x==4 and electionresults_index[x]== \"O'Tooley\":\n",
    "        print(electionresults_index[x], electionresultsindex.loc[x])\n",
    "        print('-------------------------')  \n",
    "        \n",
    "    elif x==5 and electionresults_index[x]== 'Winner' : \n",
    "        print(electionresults_index[x], electionresultsindex.loc[x])\n",
    "        print('-------------------------')  "
   ]
  },
  {
   "cell_type": "code",
   "execution_count": 28,
   "metadata": {},
   "outputs": [
    {
     "data": {
      "text/plain": [
       "Index(['Election Results', 'Index'], dtype='object')"
      ]
     },
     "execution_count": 28,
     "metadata": {},
     "output_type": "execute_result"
    }
   ],
   "source": [
    "electionresults.columns"
   ]
  },
  {
   "cell_type": "markdown",
   "metadata": {},
   "source": [
    "# In addition, your final script should both print the analysis to the terminal and export a text file with the results."
   ]
  },
  {
   "cell_type": "code",
   "execution_count": 29,
   "metadata": {},
   "outputs": [
    {
     "data": {
      "text/plain": [
       "str"
      ]
     },
     "execution_count": 29,
     "metadata": {},
     "output_type": "execute_result"
    }
   ],
   "source": [
    "keyoutput = ''\n",
    "resultoutput = ''\n",
    "totaloutput = ''\n",
    "type(keyoutput)    "
   ]
  },
  {
   "cell_type": "code",
   "execution_count": 30,
   "metadata": {},
   "outputs": [
    {
     "data": {
      "text/plain": [
       "dict_keys(['Total Votes:', 'Khan:', 'Correy:', 'Li:', \"O'Tooley:\", 'Winner:'])"
      ]
     },
     "execution_count": 30,
     "metadata": {},
     "output_type": "execute_result"
    }
   ],
   "source": [
    "electionresultkeys = electionresults_dictionary['Election Results'].keys()\n",
    "electionresultkeys"
   ]
  },
  {
   "cell_type": "code",
   "execution_count": 31,
   "metadata": {},
   "outputs": [
    {
     "name": "stdout",
     "output_type": "stream",
     "text": [
      "------------------------- \n",
      " Election Results \n",
      "\n",
      "------------------------- \n",
      " Total Votes:3521001 \n",
      " -------------------------\n",
      "Khan:       63.00001050837531 % \n",
      "\n",
      "Correy:       19.999994319797125 % \n",
      "\n",
      "Li:       13.999996023857989 % \n",
      "\n",
      "O'Tooley:       2.999999147969569 % \n",
      "\n",
      "------------------------- \n",
      " Winner:Khan \n",
      " -------------------------\n"
     ]
    }
   ],
   "source": [
    "with open(fileoutput,'w') as txt_file:\n",
    "    txt_file.write('Election Results')\n",
    "    txt_file.write('\\n')\n",
    "    txt_file.write('-------------------------')\n",
    "#Printing to the terminal\n",
    "    print('-------------------------','\\n','Election Results','\\n')\n",
    "    \n",
    "    for x in electionresults_dictionary['Election Results']:\n",
    "      \n",
    "        if x == 'Total Votes:':\n",
    "            txt_file.write('\\n')\n",
    "            keyoutput = x\n",
    "            resultoutput = electionresults_dictionary['Election Results'][x]\n",
    "            totaloutput = str(keyoutput) + str(resultoutput)\n",
    "            txt_file.write(str(keyoutput)+str(resultoutput))\n",
    "            txt_file.write('\\n')\n",
    "            txt_file.write('-------------------------')\n",
    "            txt_file.write('\\n')\n",
    "        #Printing to the terminal\n",
    "            print('-------------------------','\\n',totaloutput,'\\n','-------------------------')\n",
    "            \n",
    "        elif x == 'Winner:':\n",
    "          \n",
    "            txt_file.write('\\n')\n",
    "            keyoutput = x\n",
    "            resultoutput = electionresults_dictionary['Election Results'][x]\n",
    "            totaloutput = str(keyoutput)+str(resultoutput)\n",
    "            txt_file.write('-------------------------')\n",
    "            txt_file.write('\\n')\n",
    "            txt_file.write(str(totaloutput))\n",
    "            txt_file.write('\\n')\n",
    "            txt_file.write('-------------------------')\n",
    "            txt_file.write('\\n')\n",
    "        #Printing to the terminal\n",
    "            print('-------------------------','\\n',totaloutput,'\\n','-------------------------')\n",
    "        else:\n",
    "            keyoutput = x\n",
    "            resultoutput = electionresults_dictionary['Election Results'][x]\n",
    "            totaloutput = str(keyoutput)+'       ' + str(resultoutput)+' %'\n",
    "            txt_file.write(str(totaloutput))\n",
    "            txt_file.write('\\n')\n",
    "        #Printing to the terminal\n",
    "            print(totaloutput,'\\n')"
   ]
  },
  {
   "cell_type": "code",
   "execution_count": 35,
   "metadata": {},
   "outputs": [
    {
     "name": "stdout",
     "output_type": "stream",
     "text": [
      "<_io.TextIOWrapper name='Data/electionresultsoutput.txt' mode='r' encoding='cp1252'> \n",
      "\n",
      "Election Results\n",
      "-------------------------\n",
      "Total Votes:3521001\n",
      "-------------------------\n",
      "Khan:       63.00001050837531 %\n",
      "Correy:       19.999994319797125 %\n",
      "Li:       13.999996023857989 %\n",
      "O'Tooley:       2.999999147969569 %\n",
      "\n",
      "-------------------------\n",
      "Winner:Khan\n",
      "-------------------------\n",
      "\n"
     ]
    }
   ],
   "source": [
    "readfile = open(fileoutput,'r')\n",
    "print(readfile,'\\n')\n",
    "print(readfile.read())"
   ]
  }
 ],
 "metadata": {
  "kernelspec": {
   "display_name": "Python 3",
   "language": "python",
   "name": "python3"
  },
  "language_info": {
   "codemirror_mode": {
    "name": "ipython",
    "version": 3
   },
   "file_extension": ".py",
   "mimetype": "text/x-python",
   "name": "python",
   "nbconvert_exporter": "python",
   "pygments_lexer": "ipython3",
   "version": "3.7.4"
  }
 },
 "nbformat": 4,
 "nbformat_minor": 2
}
