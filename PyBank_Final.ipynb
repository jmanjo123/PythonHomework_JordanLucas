{
 "cells": [
  {
   "cell_type": "markdown",
   "metadata": {},
   "source": [
    "# Issues using the sort_values(by= '',axis=1,inplace=False) method to sort by an Index Value\n",
    "    #Created a new dataframe to test the sort_values() method#\n",
    "#newdf2 = newdf.sort_values(by='2010',axis=1,inplace=False)  -------> Not working-There is a key error\n",
    "\n",
    "     #Using the \".copy\" method, I created a new dataframe called 'newdf2' -> Without affecting the original dataframe, 'newdf', a new dataframe called 'newdf2' was created.    \n",
    "newdf2 = newdf.copy()\n",
    "\n",
    "# 'Month' is set as the Index value here\n",
    "#newdf2 = newdf.set_index('Month')\n",
    "\n",
    "    #Figure out how to use the sort_values() method\n",
    "#newdf2 = newdf.sort_values(by='\n",
    "\n",
    "# You can display two specific columns using the Double Brackets ([[  ]])\n",
    "newdf2[['Month','Year']]\n",
    "\n",
    "    #When using the '.sort_values' method, a key error is displayed\n",
    "#newdf2.sort_values(by='Nov',axis=1)#,inplace = False)\n",
    "\n",
    "    #Rows with duplicate values were dropped using the '.drop_duplicates()' method.\n",
    "#newdf2['Month'].drop_duplicates()\n",
    "\n",
    "# 'Year' is set as the Index value here\n",
    "    #When the 'Year' column is set as the index, the variable type is a string. \n",
    "newdf2 = newdf.set_index('Year')\n",
    "indexval = newdf2.index[0]\n",
    "type(indexval)\n",
    "\n",
    "# 'Profits/Losses' is set as the Index value here\n",
    "    #When the 'Profits/Losses' column is set as the index, the variable type is an integer(numpy.int64).\n",
    "newdf2 = newdf.set_index('Profits/Losses')\n",
    "indexval = newdf2.index[0]\n",
    "indexval\n",
    "type(indexval)\n",
    "\n",
    "# 'Change in Profits/Losses' is set as the Index value here\n",
    "    #When the 'Change in Profits/Losses' column is set as the index, the variable type is a float(numpy.float64).newdf2 = newdf.set_index('Change in Profits/Losses')\n",
    "indexval = newdf2.index[0]\n",
    "indexval\n",
    "type(indexval)"
   ]
  },
  {
   "cell_type": "markdown",
   "metadata": {},
   "source": [
    "# # * The total number of months included in the dataset\n",
    "  #* The net total amount of \"Profit/Losses\" over the entire period\n",
    "  #* The average of the changes in \"Profit/Losses\" over the entire period\n",
    "  #* The greatest increase in profits (date and amount) over the entire period\n",
    " # * The greatest decrease in losses (date and amount) over the entire period\n",
    "#* As an example, your analysis should look similar to the one below:\n",
    " # ```text\n",
    "    # Financial Analysis\n",
    "    # ----------------------------\n",
    "   #  Total Months: 86\n",
    "   #  Total: $38382578\n",
    "  #   Average  Change: $-2315.12\n",
    "   #  Greatest Increase in Profits: Feb-2012 ($1- 926159)   \n",
    "  #   Greatest Decrease in Profits: Sep-2013 ($- 2196167)\n",
    "\n",
    "#In addition, your final script should both print the analysis to the terminal and export a text file with the results."
   ]
  },
  {
   "cell_type": "markdown",
   "metadata": {},
   "source": [
    "# Variables Used\n",
    "- uniqueyearslist\n",
    "- monthslist_final\n",
    "- monthsgrouped"
   ]
  },
  {
   "cell_type": "code",
   "execution_count": 1,
   "metadata": {},
   "outputs": [],
   "source": [
    "import pandas as pd \n",
    "import os\n",
    "import sys\n",
    "import csv\n",
    "import pprint \n",
    "csvpath = \"C:/Users/jmanj/OneDrive/Desktop/Resources/budget_data.csv\""
   ]
  },
  {
   "cell_type": "markdown",
   "metadata": {},
   "source": [
    "# Variables Used\n",
    "- uniqueyearsdict - Line 29\n",
    "- uniqueyearslist - Line 25\n",
    "- monthslist_final - Line 26\n",
    "- monthsgrouped - Line 27"
   ]
  },
  {
   "cell_type": "code",
   "execution_count": 2,
   "metadata": {},
   "outputs": [],
   "source": [
    "\n",
    "csvpath = \"C:/Users/jmanj/OneDrive/Desktop/Resources/budget_data.csv\"\n",
    "month_dictionary = {\n",
    "    \"Jan\":[],\n",
    "    \"Feb\":[],\n",
    "    \"Mar\":[],\n",
    "    \"Apr\":[],\n",
    "    \"May\":[],\n",
    "    \"Jun\":[],\n",
    "    \"Jul\":[],\n",
    "    \"Aug\":[],\n",
    "    \"Sep\":[],\n",
    "    \"Oct\":[],\n",
    "    \"Nov\":[],\n",
    "    \"Dec\":[]\n",
    "}\n",
    "\n",
    "month = []"
   ]
  },
  {
   "cell_type": "code",
   "execution_count": 3,
   "metadata": {},
   "outputs": [],
   "source": [
    "month_chr = '' \n",
    "with open(csvpath,newline='') as csvfile: \n",
    "    \n",
    "        \n",
    "    csvreader = csv.reader(csvfile,delimiter=\",\")\n",
    "    csvheader = next(csvreader)\n",
    "    \n",
    "    for row1 in csvreader:\n",
    "        \n",
    "        \n",
    "        strmonth = str(row1)\n",
    "        month1 = strmonth.split(',')\n",
    "        month.append(month1)\n",
    "    \n",
    "    \n",
    "        for row2 in month: \n",
    "            sorting_str = str(row2[0])\n",
    "    "
   ]
  },
  {
   "cell_type": "code",
   "execution_count": 4,
   "metadata": {},
   "outputs": [
    {
     "data": {
      "text/plain": [
       "\" '867884']\""
      ]
     },
     "execution_count": 4,
     "metadata": {},
     "output_type": "execute_result"
    }
   ],
   "source": [
    "month_df = pd.DataFrame(month)\n",
    "month_df[1][0][2:8]\n",
    "month_df[1][0]\n",
    "#delchr_len = len(month_df[1][0])\n",
    "#delchr_len\n",
    "#month_df[1][0][2:(delchr_len-2)]"
   ]
  },
  {
   "cell_type": "code",
   "execution_count": 5,
   "metadata": {
    "scrolled": false
   },
   "outputs": [
    {
     "data": {
      "text/plain": [
       "867884"
      ]
     },
     "execution_count": 5,
     "metadata": {},
     "output_type": "execute_result"
    }
   ],
   "source": [
    "var1 = month_df[1][0]\n",
    "var2 = ''\n",
    "for val in var1:\n",
    "    if val == \"]\":\n",
    "        var1.replace(\"]\",\"\")\n",
    "    elif val == \"'\":\n",
    "        var1.replace(\"'\",\"\")\n",
    "    else:\n",
    "        var2 = var2 + val\n",
    "int(var2)"
   ]
  },
  {
   "cell_type": "code",
   "execution_count": 6,
   "metadata": {},
   "outputs": [],
   "source": [
    "counter1 = 0 \n",
    "originalval = month_df[1][counter1]\n",
    "newval = ''\n",
    "list1 = [] \n",
    "while counter1 < 85:\n",
    "    \n",
    "   \n",
    "    for chr1 in month_df[1][counter1]:\n",
    "        if chr1 == \"]\":\n",
    "            originalval.replace(\"]\",\"\")\n",
    "        elif chr1 == \"'\":\n",
    "            originalval.replace(\"'\",\"\")\n",
    "        else:\n",
    "            newval = newval + chr1\n",
    "            \n",
    "    list1.append(int(newval))\n",
    "    counter1 = counter1 + 1 \n",
    "    newval = ''"
   ]
  },
  {
   "cell_type": "markdown",
   "metadata": {},
   "source": [
    "#For the code below\n",
    "\n",
    "list2[3].split('-')[1]"
   ]
  },
  {
   "cell_type": "code",
   "execution_count": 7,
   "metadata": {},
   "outputs": [],
   "source": [
    "counter2 = 0 \n",
    "datalist = []\n",
    "oval = month_df[1][counter2]\n",
    "newval2 = ''\n",
    "while counter2 < 86:\n",
    "    \n",
    " \n",
    "    for chr2 in month_df[0][counter2]:\n",
    "        if chr2 == \"[\": \n",
    "            oval.replace(\"[\",\"\")\n",
    "        elif chr2 == \"'\":\n",
    "            oval.replace(\"'\",\"\")\n",
    "        else:\n",
    "            newval2 = newval2 + chr2\n",
    "    \n",
    "    datalist.append(newval2.split('-'))\n",
    "    \n",
    "    counter2 = counter2 + 1 \n",
    "    newval2 = ''"
   ]
  },
  {
   "cell_type": "code",
   "execution_count": 8,
   "metadata": {},
   "outputs": [
    {
     "data": {
      "text/plain": [
       "[['Jan', '2010'],\n",
       " ['Feb', '2010'],\n",
       " ['Mar', '2010'],\n",
       " ['Apr', '2010'],\n",
       " ['May', '2010'],\n",
       " ['Jun', '2010'],\n",
       " ['Jul', '2010'],\n",
       " ['Aug', '2010'],\n",
       " ['Sep', '2010'],\n",
       " ['Oct', '2010'],\n",
       " ['Nov', '2010'],\n",
       " ['Dec', '2010'],\n",
       " ['Jan', '2011'],\n",
       " ['Feb', '2011'],\n",
       " ['Mar', '2011'],\n",
       " ['Apr', '2011'],\n",
       " ['May', '2011'],\n",
       " ['Jun', '2011'],\n",
       " ['Jul', '2011'],\n",
       " ['Aug', '2011'],\n",
       " ['Sep', '2011'],\n",
       " ['Oct', '2011'],\n",
       " ['Nov', '2011'],\n",
       " ['Dec', '2011'],\n",
       " ['Jan', '2012'],\n",
       " ['Feb', '2012'],\n",
       " ['Mar', '2012'],\n",
       " ['Apr', '2012'],\n",
       " ['May', '2012'],\n",
       " ['Jun', '2012'],\n",
       " ['Jul', '2012'],\n",
       " ['Aug', '2012'],\n",
       " ['Sep', '2012'],\n",
       " ['Oct', '2012'],\n",
       " ['Nov', '2012'],\n",
       " ['Dec', '2012'],\n",
       " ['Jan', '2013'],\n",
       " ['Feb', '2013'],\n",
       " ['Mar', '2013'],\n",
       " ['Apr', '2013'],\n",
       " ['May', '2013'],\n",
       " ['Jun', '2013'],\n",
       " ['Jul', '2013'],\n",
       " ['Aug', '2013'],\n",
       " ['Sep', '2013'],\n",
       " ['Oct', '2013'],\n",
       " ['Nov', '2013'],\n",
       " ['Dec', '2013'],\n",
       " ['Jan', '2014'],\n",
       " ['Feb', '2014'],\n",
       " ['Mar', '2014'],\n",
       " ['Apr', '2014'],\n",
       " ['May', '2014'],\n",
       " ['Jun', '2014'],\n",
       " ['Jul', '2014'],\n",
       " ['Aug', '2014'],\n",
       " ['Sep', '2014'],\n",
       " ['Oct', '2014'],\n",
       " ['Nov', '2014'],\n",
       " ['Dec', '2014'],\n",
       " ['Jan', '2015'],\n",
       " ['Feb', '2015'],\n",
       " ['Mar', '2015'],\n",
       " ['Apr', '2015'],\n",
       " ['May', '2015'],\n",
       " ['Jun', '2015'],\n",
       " ['Jul', '2015'],\n",
       " ['Aug', '2015'],\n",
       " ['Sep', '2015'],\n",
       " ['Oct', '2015'],\n",
       " ['Nov', '2015'],\n",
       " ['Dec', '2015'],\n",
       " ['Jan', '2016'],\n",
       " ['Feb', '2016'],\n",
       " ['Mar', '2016'],\n",
       " ['Apr', '2016'],\n",
       " ['May', '2016'],\n",
       " ['Jun', '2016'],\n",
       " ['Jul', '2016'],\n",
       " ['Aug', '2016'],\n",
       " ['Sep', '2016'],\n",
       " ['Oct', '2016'],\n",
       " ['Nov', '2016'],\n",
       " ['Dec', '2016'],\n",
       " ['Jan', '2017'],\n",
       " ['Feb', '2017']]"
      ]
     },
     "execution_count": 8,
     "metadata": {},
     "output_type": "execute_result"
    }
   ],
   "source": [
    "datalist"
   ]
  },
  {
   "cell_type": "code",
   "execution_count": 9,
   "metadata": {},
   "outputs": [
    {
     "data": {
      "text/html": [
       "<div>\n",
       "<style scoped>\n",
       "    .dataframe tbody tr th:only-of-type {\n",
       "        vertical-align: middle;\n",
       "    }\n",
       "\n",
       "    .dataframe tbody tr th {\n",
       "        vertical-align: top;\n",
       "    }\n",
       "\n",
       "    .dataframe thead th {\n",
       "        text-align: right;\n",
       "    }\n",
       "</style>\n",
       "<table border=\"1\" class=\"dataframe\">\n",
       "  <thead>\n",
       "    <tr style=\"text-align: right;\">\n",
       "      <th></th>\n",
       "      <th>Month</th>\n",
       "      <th>Year</th>\n",
       "    </tr>\n",
       "  </thead>\n",
       "  <tbody>\n",
       "    <tr>\n",
       "      <td>0</td>\n",
       "      <td>Jan</td>\n",
       "      <td>2010</td>\n",
       "    </tr>\n",
       "    <tr>\n",
       "      <td>1</td>\n",
       "      <td>Feb</td>\n",
       "      <td>2010</td>\n",
       "    </tr>\n",
       "    <tr>\n",
       "      <td>2</td>\n",
       "      <td>Mar</td>\n",
       "      <td>2010</td>\n",
       "    </tr>\n",
       "    <tr>\n",
       "      <td>3</td>\n",
       "      <td>Apr</td>\n",
       "      <td>2010</td>\n",
       "    </tr>\n",
       "    <tr>\n",
       "      <td>4</td>\n",
       "      <td>May</td>\n",
       "      <td>2010</td>\n",
       "    </tr>\n",
       "    <tr>\n",
       "      <td>...</td>\n",
       "      <td>...</td>\n",
       "      <td>...</td>\n",
       "    </tr>\n",
       "    <tr>\n",
       "      <td>81</td>\n",
       "      <td>Oct</td>\n",
       "      <td>2016</td>\n",
       "    </tr>\n",
       "    <tr>\n",
       "      <td>82</td>\n",
       "      <td>Nov</td>\n",
       "      <td>2016</td>\n",
       "    </tr>\n",
       "    <tr>\n",
       "      <td>83</td>\n",
       "      <td>Dec</td>\n",
       "      <td>2016</td>\n",
       "    </tr>\n",
       "    <tr>\n",
       "      <td>84</td>\n",
       "      <td>Jan</td>\n",
       "      <td>2017</td>\n",
       "    </tr>\n",
       "    <tr>\n",
       "      <td>85</td>\n",
       "      <td>Feb</td>\n",
       "      <td>2017</td>\n",
       "    </tr>\n",
       "  </tbody>\n",
       "</table>\n",
       "<p>86 rows × 2 columns</p>\n",
       "</div>"
      ],
      "text/plain": [
       "   Month  Year\n",
       "0    Jan  2010\n",
       "1    Feb  2010\n",
       "2    Mar  2010\n",
       "3    Apr  2010\n",
       "4    May  2010\n",
       "..   ...   ...\n",
       "81   Oct  2016\n",
       "82   Nov  2016\n",
       "83   Dec  2016\n",
       "84   Jan  2017\n",
       "85   Feb  2017\n",
       "\n",
       "[86 rows x 2 columns]"
      ]
     },
     "execution_count": 9,
     "metadata": {},
     "output_type": "execute_result"
    }
   ],
   "source": [
    "mnamedf = pd.DataFrame(datalist)\n",
    "\n",
    "mnamedf.columns = ['Month','Year']\n",
    "#mnamedf.set_index('Month')\n",
    "mnamedf"
   ]
  },
  {
   "cell_type": "code",
   "execution_count": 10,
   "metadata": {},
   "outputs": [
    {
     "data": {
      "text/plain": [
       "86"
      ]
     },
     "execution_count": 10,
     "metadata": {},
     "output_type": "execute_result"
    }
   ],
   "source": [
    " #The total number of months included in the dataset\n",
    "len(month_df)"
   ]
  },
  {
   "cell_type": "code",
   "execution_count": 11,
   "metadata": {},
   "outputs": [],
   "source": [
    "list1\n",
    "valdf = pd.DataFrame(list1)\n",
    "valdf.columns = ['Profits/Losses']"
   ]
  },
  {
   "cell_type": "code",
   "execution_count": 12,
   "metadata": {},
   "outputs": [
    {
     "data": {
      "text/plain": [
       "867884"
      ]
     },
     "execution_count": 12,
     "metadata": {},
     "output_type": "execute_result"
    }
   ],
   "source": [
    "#valdf.set_index('Profits/Losses')\n",
    "valdf['Profits/Losses'][0]"
   ]
  },
  {
   "cell_type": "code",
   "execution_count": 13,
   "metadata": {},
   "outputs": [
    {
     "data": {
      "text/html": [
       "<div>\n",
       "<style scoped>\n",
       "    .dataframe tbody tr th:only-of-type {\n",
       "        vertical-align: middle;\n",
       "    }\n",
       "\n",
       "    .dataframe tbody tr th {\n",
       "        vertical-align: top;\n",
       "    }\n",
       "\n",
       "    .dataframe thead th {\n",
       "        text-align: right;\n",
       "    }\n",
       "</style>\n",
       "<table border=\"1\" class=\"dataframe\">\n",
       "  <thead>\n",
       "    <tr style=\"text-align: right;\">\n",
       "      <th></th>\n",
       "      <th>Month</th>\n",
       "      <th>Year</th>\n",
       "      <th>Profits/Losses</th>\n",
       "    </tr>\n",
       "  </thead>\n",
       "  <tbody>\n",
       "    <tr>\n",
       "      <td>0</td>\n",
       "      <td>Jan</td>\n",
       "      <td>2010</td>\n",
       "      <td>867884</td>\n",
       "    </tr>\n",
       "    <tr>\n",
       "      <td>1</td>\n",
       "      <td>Feb</td>\n",
       "      <td>2010</td>\n",
       "      <td>984655</td>\n",
       "    </tr>\n",
       "    <tr>\n",
       "      <td>2</td>\n",
       "      <td>Mar</td>\n",
       "      <td>2010</td>\n",
       "      <td>322013</td>\n",
       "    </tr>\n",
       "    <tr>\n",
       "      <td>3</td>\n",
       "      <td>Apr</td>\n",
       "      <td>2010</td>\n",
       "      <td>-69417</td>\n",
       "    </tr>\n",
       "    <tr>\n",
       "      <td>4</td>\n",
       "      <td>May</td>\n",
       "      <td>2010</td>\n",
       "      <td>310503</td>\n",
       "    </tr>\n",
       "    <tr>\n",
       "      <td>...</td>\n",
       "      <td>...</td>\n",
       "      <td>...</td>\n",
       "      <td>...</td>\n",
       "    </tr>\n",
       "    <tr>\n",
       "      <td>80</td>\n",
       "      <td>Sep</td>\n",
       "      <td>2016</td>\n",
       "      <td>768450</td>\n",
       "    </tr>\n",
       "    <tr>\n",
       "      <td>81</td>\n",
       "      <td>Oct</td>\n",
       "      <td>2016</td>\n",
       "      <td>102685</td>\n",
       "    </tr>\n",
       "    <tr>\n",
       "      <td>82</td>\n",
       "      <td>Nov</td>\n",
       "      <td>2016</td>\n",
       "      <td>795914</td>\n",
       "    </tr>\n",
       "    <tr>\n",
       "      <td>83</td>\n",
       "      <td>Dec</td>\n",
       "      <td>2016</td>\n",
       "      <td>60988</td>\n",
       "    </tr>\n",
       "    <tr>\n",
       "      <td>84</td>\n",
       "      <td>Jan</td>\n",
       "      <td>2017</td>\n",
       "      <td>138230</td>\n",
       "    </tr>\n",
       "  </tbody>\n",
       "</table>\n",
       "<p>85 rows × 3 columns</p>\n",
       "</div>"
      ],
      "text/plain": [
       "   Month  Year  Profits/Losses\n",
       "0    Jan  2010          867884\n",
       "1    Feb  2010          984655\n",
       "2    Mar  2010          322013\n",
       "3    Apr  2010          -69417\n",
       "4    May  2010          310503\n",
       "..   ...   ...             ...\n",
       "80   Sep  2016          768450\n",
       "81   Oct  2016          102685\n",
       "82   Nov  2016          795914\n",
       "83   Dec  2016           60988\n",
       "84   Jan  2017          138230\n",
       "\n",
       "[85 rows x 3 columns]"
      ]
     },
     "execution_count": 13,
     "metadata": {},
     "output_type": "execute_result"
    }
   ],
   "source": [
    "origdfpl = pd.concat([mnamedf,valdf],axis = 1, join = 'inner')\n",
    "origdfpl"
   ]
  },
  {
   "cell_type": "code",
   "execution_count": 14,
   "metadata": {},
   "outputs": [
    {
     "data": {
      "text/plain": [
       "984655"
      ]
     },
     "execution_count": 14,
     "metadata": {},
     "output_type": "execute_result"
    }
   ],
   "source": [
    "origdfpl['Profits/Losses'][1]"
   ]
  },
  {
   "cell_type": "code",
   "execution_count": 15,
   "metadata": {},
   "outputs": [
    {
     "data": {
      "text/plain": [
       "37711479"
      ]
     },
     "execution_count": 15,
     "metadata": {},
     "output_type": "execute_result"
    }
   ],
   "source": [
    "#The net total amount of \"Profit/Losses\" over the entire period\n",
    "\n",
    "sumtotal = origdfpl['Profits/Losses'].sum()\n",
    "sumtotal"
   ]
  },
  {
   "cell_type": "code",
   "execution_count": 16,
   "metadata": {},
   "outputs": [],
   "source": [
    "#The net total amount of Change in \"Profit/Losses\" over the entire period\n",
    "pllist = [] \n",
    "counterE = 0 \n",
    "currval = origdfpl['Profits/Losses'][counterE]\n",
    "preval = 0 \n",
    "plchange = 0 \n",
    "while counterE < 84:\n",
    "    \n",
    "    nxtval = origdfpl['Profits/Losses'][counterE+1]\n",
    "    \n",
    "    plchange = float(nxtval) - currval\n",
    "    pllist.append(plchange)\n",
    "    counterE = counterE + 1\n",
    "    \n",
    "\n",
    "    nxtval = ''\n",
    "    plchange = 0 "
   ]
  },
  {
   "cell_type": "code",
   "execution_count": 17,
   "metadata": {},
   "outputs": [
    {
     "data": {
      "text/html": [
       "<div>\n",
       "<style scoped>\n",
       "    .dataframe tbody tr th:only-of-type {\n",
       "        vertical-align: middle;\n",
       "    }\n",
       "\n",
       "    .dataframe tbody tr th {\n",
       "        vertical-align: top;\n",
       "    }\n",
       "\n",
       "    .dataframe thead th {\n",
       "        text-align: right;\n",
       "    }\n",
       "</style>\n",
       "<table border=\"1\" class=\"dataframe\">\n",
       "  <thead>\n",
       "    <tr style=\"text-align: right;\">\n",
       "      <th></th>\n",
       "      <th>Change in Profits/Losses</th>\n",
       "    </tr>\n",
       "  </thead>\n",
       "  <tbody>\n",
       "    <tr>\n",
       "      <td>0</td>\n",
       "      <td>116771.0</td>\n",
       "    </tr>\n",
       "    <tr>\n",
       "      <td>1</td>\n",
       "      <td>-545871.0</td>\n",
       "    </tr>\n",
       "    <tr>\n",
       "      <td>2</td>\n",
       "      <td>-937301.0</td>\n",
       "    </tr>\n",
       "    <tr>\n",
       "      <td>3</td>\n",
       "      <td>-557381.0</td>\n",
       "    </tr>\n",
       "    <tr>\n",
       "      <td>4</td>\n",
       "      <td>-345027.0</td>\n",
       "    </tr>\n",
       "    <tr>\n",
       "      <td>...</td>\n",
       "      <td>...</td>\n",
       "    </tr>\n",
       "    <tr>\n",
       "      <td>79</td>\n",
       "      <td>-99434.0</td>\n",
       "    </tr>\n",
       "    <tr>\n",
       "      <td>80</td>\n",
       "      <td>-765199.0</td>\n",
       "    </tr>\n",
       "    <tr>\n",
       "      <td>81</td>\n",
       "      <td>-71970.0</td>\n",
       "    </tr>\n",
       "    <tr>\n",
       "      <td>82</td>\n",
       "      <td>-806896.0</td>\n",
       "    </tr>\n",
       "    <tr>\n",
       "      <td>83</td>\n",
       "      <td>-729654.0</td>\n",
       "    </tr>\n",
       "  </tbody>\n",
       "</table>\n",
       "<p>84 rows × 1 columns</p>\n",
       "</div>"
      ],
      "text/plain": [
       "    Change in Profits/Losses\n",
       "0                   116771.0\n",
       "1                  -545871.0\n",
       "2                  -937301.0\n",
       "3                  -557381.0\n",
       "4                  -345027.0\n",
       "..                       ...\n",
       "79                  -99434.0\n",
       "80                 -765199.0\n",
       "81                  -71970.0\n",
       "82                 -806896.0\n",
       "83                 -729654.0\n",
       "\n",
       "[84 rows x 1 columns]"
      ]
     },
     "execution_count": 17,
     "metadata": {},
     "output_type": "execute_result"
    }
   ],
   "source": [
    "#pllist\n",
    "plchangedf = pd.DataFrame(pllist)\n",
    "plchangedf.columns = ['Change in Profits/Losses']\n",
    "plchangedf"
   ]
  },
  {
   "cell_type": "code",
   "execution_count": 18,
   "metadata": {},
   "outputs": [],
   "source": [
    "#month_df.drop(['Profits/Losses1'], axis = 1, inplace = True) -> Used this statement to drop columns that weren't needed\n",
    "\n",
    "newdf = pd.concat([origdfpl,plchangedf],axis = 1, join = 'inner')"
   ]
  },
  {
   "cell_type": "code",
   "execution_count": 19,
   "metadata": {},
   "outputs": [
    {
     "data": {
      "text/html": [
       "<div>\n",
       "<style scoped>\n",
       "    .dataframe tbody tr th:only-of-type {\n",
       "        vertical-align: middle;\n",
       "    }\n",
       "\n",
       "    .dataframe tbody tr th {\n",
       "        vertical-align: top;\n",
       "    }\n",
       "\n",
       "    .dataframe thead th {\n",
       "        text-align: right;\n",
       "    }\n",
       "</style>\n",
       "<table border=\"1\" class=\"dataframe\">\n",
       "  <thead>\n",
       "    <tr style=\"text-align: right;\">\n",
       "      <th></th>\n",
       "      <th>Month</th>\n",
       "      <th>Year</th>\n",
       "      <th>Profits/Losses</th>\n",
       "      <th>Change in Profits/Losses</th>\n",
       "    </tr>\n",
       "  </thead>\n",
       "  <tbody>\n",
       "    <tr>\n",
       "      <td>0</td>\n",
       "      <td>Jan</td>\n",
       "      <td>2010</td>\n",
       "      <td>867884</td>\n",
       "      <td>116771.0</td>\n",
       "    </tr>\n",
       "    <tr>\n",
       "      <td>1</td>\n",
       "      <td>Feb</td>\n",
       "      <td>2010</td>\n",
       "      <td>984655</td>\n",
       "      <td>-545871.0</td>\n",
       "    </tr>\n",
       "    <tr>\n",
       "      <td>2</td>\n",
       "      <td>Mar</td>\n",
       "      <td>2010</td>\n",
       "      <td>322013</td>\n",
       "      <td>-937301.0</td>\n",
       "    </tr>\n",
       "    <tr>\n",
       "      <td>3</td>\n",
       "      <td>Apr</td>\n",
       "      <td>2010</td>\n",
       "      <td>-69417</td>\n",
       "      <td>-557381.0</td>\n",
       "    </tr>\n",
       "    <tr>\n",
       "      <td>4</td>\n",
       "      <td>May</td>\n",
       "      <td>2010</td>\n",
       "      <td>310503</td>\n",
       "      <td>-345027.0</td>\n",
       "    </tr>\n",
       "    <tr>\n",
       "      <td>...</td>\n",
       "      <td>...</td>\n",
       "      <td>...</td>\n",
       "      <td>...</td>\n",
       "      <td>...</td>\n",
       "    </tr>\n",
       "    <tr>\n",
       "      <td>79</td>\n",
       "      <td>Aug</td>\n",
       "      <td>2016</td>\n",
       "      <td>569899</td>\n",
       "      <td>-99434.0</td>\n",
       "    </tr>\n",
       "    <tr>\n",
       "      <td>80</td>\n",
       "      <td>Sep</td>\n",
       "      <td>2016</td>\n",
       "      <td>768450</td>\n",
       "      <td>-765199.0</td>\n",
       "    </tr>\n",
       "    <tr>\n",
       "      <td>81</td>\n",
       "      <td>Oct</td>\n",
       "      <td>2016</td>\n",
       "      <td>102685</td>\n",
       "      <td>-71970.0</td>\n",
       "    </tr>\n",
       "    <tr>\n",
       "      <td>82</td>\n",
       "      <td>Nov</td>\n",
       "      <td>2016</td>\n",
       "      <td>795914</td>\n",
       "      <td>-806896.0</td>\n",
       "    </tr>\n",
       "    <tr>\n",
       "      <td>83</td>\n",
       "      <td>Dec</td>\n",
       "      <td>2016</td>\n",
       "      <td>60988</td>\n",
       "      <td>-729654.0</td>\n",
       "    </tr>\n",
       "  </tbody>\n",
       "</table>\n",
       "<p>84 rows × 4 columns</p>\n",
       "</div>"
      ],
      "text/plain": [
       "   Month  Year  Profits/Losses  Change in Profits/Losses\n",
       "0    Jan  2010          867884                  116771.0\n",
       "1    Feb  2010          984655                 -545871.0\n",
       "2    Mar  2010          322013                 -937301.0\n",
       "3    Apr  2010          -69417                 -557381.0\n",
       "4    May  2010          310503                 -345027.0\n",
       "..   ...   ...             ...                       ...\n",
       "79   Aug  2016          569899                  -99434.0\n",
       "80   Sep  2016          768450                 -765199.0\n",
       "81   Oct  2016          102685                  -71970.0\n",
       "82   Nov  2016          795914                 -806896.0\n",
       "83   Dec  2016           60988                 -729654.0\n",
       "\n",
       "[84 rows x 4 columns]"
      ]
     },
     "execution_count": 19,
     "metadata": {},
     "output_type": "execute_result"
    }
   ],
   "source": [
    "newdf"
   ]
  },
  {
   "cell_type": "markdown",
   "metadata": {},
   "source": []
  },
  {
   "cell_type": "code",
   "execution_count": 20,
   "metadata": {},
   "outputs": [
    {
     "data": {
      "text/plain": [
       "-429269.7738095238"
      ]
     },
     "execution_count": 20,
     "metadata": {},
     "output_type": "execute_result"
    }
   ],
   "source": [
    "#The average of the changes in \"Profit/Losses\" over the entire period\n",
    "avgpl = newdf['Change in Profits/Losses'].mean()\n",
    "avgpl"
   ]
  },
  {
   "cell_type": "code",
   "execution_count": 21,
   "metadata": {},
   "outputs": [
    {
     "data": {
      "text/plain": [
       "-36058661.0"
      ]
     },
     "execution_count": 21,
     "metadata": {},
     "output_type": "execute_result"
    }
   ],
   "source": [
    "#The net total amount of Change in \"Profit/Losses\" over the entire period\n",
    "sumchangepl = newdf['Change in Profits/Losses'].sum()\n",
    "sumchangepl"
   ]
  },
  {
   "cell_type": "code",
   "execution_count": 22,
   "metadata": {},
   "outputs": [
    {
     "name": "stdout",
     "output_type": "stream",
     "text": [
      "The Greatest Increase is:  116771.0\n",
      "The Greatest Decrease is:  -545871.0\n"
     ]
    }
   ],
   "source": [
    "#The greatest increase in profits (date and amount) over the entire period   #The greatest decrease in losses (date and amount) over the entire period\n",
    "\n",
    "counterGID = 0 \n",
    "currval = newdf['Change in Profits/Losses'][counterGID]\n",
    "nxtval = newdf['Change in Profits/Losses'][counterGID+1]\n",
    "greatestincrease = 0\n",
    "greatestdecrease = 0\n",
    "\n",
    "if currval > nxtval: \n",
    "    greatestincrease = currval\n",
    "    greatestdecrease = nxtval\n",
    "    \n",
    "while counterGID< 85:\n",
    "    \n",
    "    if greatestincrease > nxtval:\n",
    "        greatestincrease = greatestincrease\n",
    "        \n",
    "    elif greatestincrease <nxtval: \n",
    "        greatestincrease = nxtval\n",
    "        \n",
    "    if greatestdecrease > nxtval:\n",
    "        greatestdecrease = nxtval\n",
    "        \n",
    "    elif greatestdecrease < nxtval:\n",
    "        greatestdecrease = greatestdecrease\n",
    "        \n",
    "\n",
    "   \n",
    "    counterGID = counterGID + 1\n",
    "    \n",
    "\n",
    "    nxtval = 0\n",
    "    plchange = 0 \n",
    "print(\"The Greatest Increase is: \", greatestincrease)\n",
    "print(\"The Greatest Decrease is: \", greatestdecrease)"
   ]
  },
  {
   "cell_type": "code",
   "execution_count": 23,
   "metadata": {},
   "outputs": [
    {
     "data": {
      "text/html": [
       "<div>\n",
       "<style scoped>\n",
       "    .dataframe tbody tr th:only-of-type {\n",
       "        vertical-align: middle;\n",
       "    }\n",
       "\n",
       "    .dataframe tbody tr th {\n",
       "        vertical-align: top;\n",
       "    }\n",
       "\n",
       "    .dataframe thead th {\n",
       "        text-align: right;\n",
       "    }\n",
       "</style>\n",
       "<table border=\"1\" class=\"dataframe\">\n",
       "  <thead>\n",
       "    <tr style=\"text-align: right;\">\n",
       "      <th></th>\n",
       "      <th>Month</th>\n",
       "      <th>Year</th>\n",
       "      <th>Profits/Losses</th>\n",
       "      <th>Change in Profits/Losses</th>\n",
       "    </tr>\n",
       "  </thead>\n",
       "  <tbody>\n",
       "    <tr>\n",
       "      <td>0</td>\n",
       "      <td>Jan</td>\n",
       "      <td>2010</td>\n",
       "      <td>867884</td>\n",
       "      <td>116771.0</td>\n",
       "    </tr>\n",
       "    <tr>\n",
       "      <td>1</td>\n",
       "      <td>Feb</td>\n",
       "      <td>2010</td>\n",
       "      <td>984655</td>\n",
       "      <td>-545871.0</td>\n",
       "    </tr>\n",
       "    <tr>\n",
       "      <td>2</td>\n",
       "      <td>Mar</td>\n",
       "      <td>2010</td>\n",
       "      <td>322013</td>\n",
       "      <td>-937301.0</td>\n",
       "    </tr>\n",
       "    <tr>\n",
       "      <td>3</td>\n",
       "      <td>Apr</td>\n",
       "      <td>2010</td>\n",
       "      <td>-69417</td>\n",
       "      <td>-557381.0</td>\n",
       "    </tr>\n",
       "    <tr>\n",
       "      <td>4</td>\n",
       "      <td>May</td>\n",
       "      <td>2010</td>\n",
       "      <td>310503</td>\n",
       "      <td>-345027.0</td>\n",
       "    </tr>\n",
       "    <tr>\n",
       "      <td>...</td>\n",
       "      <td>...</td>\n",
       "      <td>...</td>\n",
       "      <td>...</td>\n",
       "      <td>...</td>\n",
       "    </tr>\n",
       "    <tr>\n",
       "      <td>79</td>\n",
       "      <td>Aug</td>\n",
       "      <td>2016</td>\n",
       "      <td>569899</td>\n",
       "      <td>-99434.0</td>\n",
       "    </tr>\n",
       "    <tr>\n",
       "      <td>80</td>\n",
       "      <td>Sep</td>\n",
       "      <td>2016</td>\n",
       "      <td>768450</td>\n",
       "      <td>-765199.0</td>\n",
       "    </tr>\n",
       "    <tr>\n",
       "      <td>81</td>\n",
       "      <td>Oct</td>\n",
       "      <td>2016</td>\n",
       "      <td>102685</td>\n",
       "      <td>-71970.0</td>\n",
       "    </tr>\n",
       "    <tr>\n",
       "      <td>82</td>\n",
       "      <td>Nov</td>\n",
       "      <td>2016</td>\n",
       "      <td>795914</td>\n",
       "      <td>-806896.0</td>\n",
       "    </tr>\n",
       "    <tr>\n",
       "      <td>83</td>\n",
       "      <td>Dec</td>\n",
       "      <td>2016</td>\n",
       "      <td>60988</td>\n",
       "      <td>-729654.0</td>\n",
       "    </tr>\n",
       "  </tbody>\n",
       "</table>\n",
       "<p>84 rows × 4 columns</p>\n",
       "</div>"
      ],
      "text/plain": [
       "   Month  Year  Profits/Losses  Change in Profits/Losses\n",
       "0    Jan  2010          867884                  116771.0\n",
       "1    Feb  2010          984655                 -545871.0\n",
       "2    Mar  2010          322013                 -937301.0\n",
       "3    Apr  2010          -69417                 -557381.0\n",
       "4    May  2010          310503                 -345027.0\n",
       "..   ...   ...             ...                       ...\n",
       "79   Aug  2016          569899                  -99434.0\n",
       "80   Sep  2016          768450                 -765199.0\n",
       "81   Oct  2016          102685                  -71970.0\n",
       "82   Nov  2016          795914                 -806896.0\n",
       "83   Dec  2016           60988                 -729654.0\n",
       "\n",
       "[84 rows x 4 columns]"
      ]
     },
     "execution_count": 23,
     "metadata": {},
     "output_type": "execute_result"
    }
   ],
   "source": [
    "#newdf['Change in Profits/Losses']\n",
    "newdf"
   ]
  },
  {
   "cell_type": "markdown",
   "metadata": {},
   "source": [
    "# List Inputs for Manipulating the Data\n",
    "\n",
    "count1 = 1 \n",
    "monthslist_final = newdf['Month']\n",
    "print('First avaliable range input')\n",
    "print(monthslist_final[0:3])\n",
    "print('----------------------')\n",
    "print('A single number for the second avaliable range input')\n",
    "print(monthslist_final[0:3][1])\n",
    "print('----------------------')\n",
    "print('A range for the first and second range inputs')\n",
    "print(monthslist_final[0:3][0:5])\n",
    "print('----------------------')\n",
    "print('Single number for the first range input & a range for the second avaliable range input')\n",
    "print(monthslist_final[0][0:3])\n",
    "print('----------------------')\n",
    "print('Single number for the first range input & a range for the second avaliable range input')\n",
    "print(monthslist_final[0:3][0:3][0:2])"
   ]
  },
  {
   "cell_type": "code",
   "execution_count": 24,
   "metadata": {},
   "outputs": [
    {
     "data": {
      "text/plain": [
       "['2010', '2011', '2012', '2013', '2014', '2015', '2016']"
      ]
     },
     "execution_count": 24,
     "metadata": {},
     "output_type": "execute_result"
    }
   ],
   "source": [
    "#Creating a List of all thd Unique Years\n",
    "uniqueyears = newdf['Year'].drop_duplicates()\n",
    "uniqueyearslist = []\n",
    "for uniqueval in uniqueyears:\n",
    "    uniqueyearslist.append(uniqueval) \n",
    "uniqueyearslist"
   ]
  },
  {
   "cell_type": "code",
   "execution_count": 25,
   "metadata": {},
   "outputs": [
    {
     "name": "stdout",
     "output_type": "stream",
     "text": [
      "Jan\n"
     ]
    }
   ],
   "source": [
    "count1 = 1 \n",
    "monthslist_final = newdf['Month']\n",
    "print(monthslist_final[0][0:3])"
   ]
  },
  {
   "cell_type": "code",
   "execution_count": 26,
   "metadata": {},
   "outputs": [
    {
     "data": {
      "text/plain": [
       "['Jan Feb',\n",
       " 'Feb Mar',\n",
       " 'Mar Apr',\n",
       " 'Apr May',\n",
       " 'May Jun',\n",
       " 'Jun Jul',\n",
       " 'Jul Aug',\n",
       " 'Aug Sep',\n",
       " 'Sep Oct',\n",
       " 'Oct Nov',\n",
       " 'Nov Dec',\n",
       " 'Dec Jan',\n",
       " 'Jan Feb',\n",
       " 'Feb Mar',\n",
       " 'Mar Apr',\n",
       " 'Apr May',\n",
       " 'May Jun',\n",
       " 'Jun Jul',\n",
       " 'Jul Aug',\n",
       " 'Aug Sep',\n",
       " 'Sep Oct',\n",
       " 'Oct Nov',\n",
       " 'Nov Dec',\n",
       " 'Dec Jan',\n",
       " 'Jan Feb',\n",
       " 'Feb Mar',\n",
       " 'Mar Apr',\n",
       " 'Apr May',\n",
       " 'May Jun',\n",
       " 'Jun Jul',\n",
       " 'Jul Aug',\n",
       " 'Aug Sep',\n",
       " 'Sep Oct',\n",
       " 'Oct Nov',\n",
       " 'Nov Dec',\n",
       " 'Dec Jan',\n",
       " 'Jan Feb',\n",
       " 'Feb Mar',\n",
       " 'Mar Apr',\n",
       " 'Apr May',\n",
       " 'May Jun',\n",
       " 'Jun Jul',\n",
       " 'Jul Aug',\n",
       " 'Aug Sep',\n",
       " 'Sep Oct',\n",
       " 'Oct Nov',\n",
       " 'Nov Dec',\n",
       " 'Dec Jan',\n",
       " 'Jan Feb',\n",
       " 'Feb Mar',\n",
       " 'Mar Apr',\n",
       " 'Apr May',\n",
       " 'May Jun',\n",
       " 'Jun Jul',\n",
       " 'Jul Aug',\n",
       " 'Aug Sep',\n",
       " 'Sep Oct',\n",
       " 'Oct Nov',\n",
       " 'Nov Dec',\n",
       " 'Dec Jan',\n",
       " 'Jan Feb',\n",
       " 'Feb Mar',\n",
       " 'Mar Apr',\n",
       " 'Apr May',\n",
       " 'May Jun',\n",
       " 'Jun Jul',\n",
       " 'Jul Aug',\n",
       " 'Aug Sep',\n",
       " 'Sep Oct',\n",
       " 'Oct Nov',\n",
       " 'Nov Dec',\n",
       " 'Dec Jan',\n",
       " 'Jan Feb',\n",
       " 'Feb Mar',\n",
       " 'Mar Apr',\n",
       " 'Apr May',\n",
       " 'May Jun',\n",
       " 'Jun Jul',\n",
       " 'Jul Aug',\n",
       " 'Aug Sep',\n",
       " 'Sep Oct',\n",
       " 'Oct Nov',\n",
       " 'Nov Dec']"
      ]
     },
     "execution_count": 26,
     "metadata": {},
     "output_type": "execute_result"
    }
   ],
   "source": [
    "#Defining my variables\n",
    "counter1 = 0\n",
    "mcount = 0\n",
    "yearscounter = 0\n",
    "monthsgrouped = []\n",
    "#monthcomparison - A constant that is used to figure out when a new year starts\n",
    "monthcomparison = monthslist_final[0][0:3]\n",
    "\n",
    "#Grouping the current & following months together \n",
    "while counter1 < 83:\n",
    "    monthsgrouped.append(monthslist_final[counter1][0:3] + ' ' + monthslist_final[counter1+1][0:3])\n",
    "    yearscounter = yearscounter + 1\n",
    "    mcount = mcount + 1\n",
    "    counter1 = counter1 + 1     \n",
    "monthsgrouped"
   ]
  },
  {
   "cell_type": "code",
   "execution_count": 27,
   "metadata": {},
   "outputs": [
    {
     "data": {
      "text/plain": [
       "['2010', '2011', '2012', '2013', '2014', '2015', '2016']"
      ]
     },
     "execution_count": 27,
     "metadata": {},
     "output_type": "execute_result"
    }
   ],
   "source": [
    "uniqueyearslist"
   ]
  },
  {
   "cell_type": "code",
   "execution_count": 28,
   "metadata": {},
   "outputs": [],
   "source": [
    "#Creating a Dictionary based on the Years\n",
    "uniqueyearsdict = {\n",
    "    '2010':[],\n",
    "    '2011':[],\n",
    "    '2012':[],\n",
    "    '2013':[],\n",
    "    '2014':[],\n",
    "    '2015':[],\n",
    "    '2016':[]\n",
    "}\n",
    "#-------Retrieving the index 'newdf2.index[1]'-------#\n",
    "#newdf2.index[1]"
   ]
  },
  {
   "cell_type": "code",
   "execution_count": 29,
   "metadata": {
    "scrolled": true
   },
   "outputs": [
    {
     "name": "stdout",
     "output_type": "stream",
     "text": [
      "Nov\n",
      "2010\n",
      "Nov\n",
      "2011\n",
      "Nov\n",
      "2012\n",
      "Nov\n",
      "2013\n",
      "Nov\n",
      "2014\n",
      "Nov\n",
      "2015\n",
      "Nov\n",
      "2016\n"
     ]
    }
   ],
   "source": [
    "#Deriving where to start the next loop based on the month November or 'Nov'\n",
    "for y in range(len(newdf)):\n",
    "    \n",
    "    if newdf['Month'][y] == 'Nov':\n",
    "        \n",
    "        print(newdf['Month'][y])\n",
    "        print(newdf['Year'][y])"
   ]
  },
  {
   "cell_type": "markdown",
   "metadata": {},
   "source": [
    "# -------------------------------------------------------"
   ]
  },
  {
   "cell_type": "markdown",
   "metadata": {},
   "source": [
    "# Retrieving each Month name from a Dataframe using a 'for' loop"
   ]
  },
  {
   "cell_type": "markdown",
   "metadata": {},
   "source": [
    "monthsgrouped"
   ]
  },
  {
   "cell_type": "code",
   "execution_count": 30,
   "metadata": {
    "scrolled": true
   },
   "outputs": [],
   "source": [
    "#Retrieving each Month name from a list using a 'for' loop\n",
    "indivmonths = []\n",
    "for individual in range(len(datalist)):\n",
    "    if datalist[individual] == 'Jan':\n",
    "           pass \n",
    "    else:\n",
    "        indivmonths.append(datalist[individual])\n",
    "        \n",
    "#individualdf is the Dataframe for the sorted data\n",
    "#individualdf = pd.DataFrame(monthsgrouped)"
   ]
  },
  {
   "cell_type": "markdown",
   "metadata": {},
   "source": [
    "# While Iterating, I'm able to retrieve years 2010-2016\n",
    "# The Iterator crashes around year 2017 or Index number [85]"
   ]
  },
  {
   "cell_type": "code",
   "execution_count": 31,
   "metadata": {},
   "outputs": [
    {
     "ename": "SyntaxError",
     "evalue": "unexpected EOF while parsing (<ipython-input-31-9cd730e81dd6>, line 7)",
     "output_type": "error",
     "traceback": [
      "\u001b[1;36m  File \u001b[1;32m\"<ipython-input-31-9cd730e81dd6>\"\u001b[1;36m, line \u001b[1;32m7\u001b[0m\n\u001b[1;33m    \u001b[0m\n\u001b[1;37m    ^\u001b[0m\n\u001b[1;31mSyntaxError\u001b[0m\u001b[1;31m:\u001b[0m unexpected EOF while parsing\n"
     ]
    }
   ],
   "source": [
    "yearscounter = 0\n",
    "year = ''\n",
    "for counter in range(len(datalist)):\n",
    "    if datalist[counter][0] =='Jan':\n",
    "        year = uniqueyearslist[yearscounter]\n",
    "        uniqueyearsdict[year].append(datalist[counter]\n",
    "  \n"
   ]
  },
  {
   "cell_type": "markdown",
   "metadata": {},
   "source": [
    "# Retrieving each Month's group name from a Dataframe using a 'for' loop\n",
    "groupedmonths = []\n",
    "yearscounter = 0\n",
    "for z in range(len(groupedmonths)):\n",
    "    \n",
    "    if groupedmonths[z] == 'Jan Feb':\n",
    "        uniqueyearsdict[uniqueyearslist[yearscounter]].append()\n",
    "    \n",
    "    else:\n",
    "        monthsg.append(groupedmonths[z])\n",
    "    \n",
    "#groupedmonthsdf = pd.DataFrame(groupedmonths)"
   ]
  },
  {
   "cell_type": "code",
   "execution_count": null,
   "metadata": {},
   "outputs": [],
   "source": [
    "gmonthloc = 0\n",
    "num = 0\n",
    "monthsgrouped[0]\n",
    "\n",
    "#Iterating through the grouped months list\n",
    "for gmonthloc in range(len(monthsgrouped)):\n",
    "    \n",
    "    print(monthsgrouped[gmonthloc])\n",
    "    gmonthloc = gmonthloc + 1"
   ]
  },
  {
   "cell_type": "markdown",
   "metadata": {},
   "source": [
    "# --------------------------------------------------------------------------------------------------- #"
   ]
  },
  {
   "cell_type": "code",
   "execution_count": null,
   "metadata": {},
   "outputs": [],
   "source": [
    "monthsgrouped\n",
    "x = 0\n",
    "counter = 0\n",
    "while x < 1:   #len(monthsgrouped):\n",
    "    print(monthsgrouped[x])\n",
    "    x = x + 1"
   ]
  },
  {
   "cell_type": "code",
   "execution_count": null,
   "metadata": {},
   "outputs": [],
   "source": [
    "#Defining my variables \n",
    "counter1 = 0\n",
    "yearscounter = 0\n",
    "monthcomparison = monthslist_final[0][0:3]\n",
    "monthslist_final2 = []\n",
    "\n",
    "#Sorting monthsgrouped into the dictionary-uniqueyearsdict \n",
    "while counter1 < 84:\n",
    "    \n",
    "    #Compares the loops current grouped month to the first grouped month\n",
    "    if monthslistgrouped[counter1][0:3] == monthcomparison:\n",
    "        monthslist_final2.append(monthslist_final[counter1][0:3] + ' ' + monthslist[counter1+1][0:3])\n",
    "        \n",
    "        yearscounter = yearscounter + 1\n",
    "        mcount = mcount + 1\n",
    "    \n",
    "    counter1 = counter1 + 1     "
   ]
  },
  {
   "cell_type": "code",
   "execution_count": null,
   "metadata": {},
   "outputs": [],
   "source": [
    "monthslistyear"
   ]
  },
  {
   "cell_type": "code",
   "execution_count": null,
   "metadata": {},
   "outputs": [],
   "source": [
    "counterm = 0\n",
    "yearscounter = 0\n",
    "mcomp = monthslist_final[0][0:3]\n",
    "mcount = 0\n",
    "while counterm < 84:\n",
    "    \n",
    "    if monthslist_final[counterm][0:3] == mcomp:\n",
    "        yearslist.append()\n",
    "        mcount = mcount + 1 \n",
    "    yearscounter = yearscounter + 1\n",
    "    counterm = counterm + 1     "
   ]
  },
  {
   "cell_type": "code",
   "execution_count": null,
   "metadata": {},
   "outputs": [],
   "source": [
    "counter3 = 0 \n",
    "while counter3 <= 84:\n",
    "    counter3 = counter3+ 1\n",
    "counter3"
   ]
  },
  {
   "cell_type": "markdown",
   "metadata": {},
   "source": [
    "    if newdf['Year'][count] == newdf['Year'][count+1]:\n",
    "        years = newdf['Year'][count+1]\n",
    "    else:\n",
    "        years = newdf['Year'][count] + ' ' + newdf['Year'][count+1]\n",
    "    monthslist.append(months)\n",
    "    yearslist.append(years)\n",
    "    z\n",
    "    count = count + 1\n",
    "    months = ''\n",
    "    years = ''"
   ]
  },
  {
   "cell_type": "code",
   "execution_count": null,
   "metadata": {},
   "outputs": [],
   "source": [
    "#Number of Rows in the Months Dataframe \n",
    "monthsdf = pd.DataFrame(monthslist)\n",
    "monthsdf.shape[0]"
   ]
  },
  {
   "cell_type": "code",
   "execution_count": null,
   "metadata": {},
   "outputs": [],
   "source": [
    "monthsdf"
   ]
  },
  {
   "cell_type": "code",
   "execution_count": null,
   "metadata": {},
   "outputs": [],
   "source": [
    "valmo = monthsdf.drop_duplicates()\n",
    "valmo.count()\n",
    "valmo"
   ]
  },
  {
   "cell_type": "code",
   "execution_count": null,
   "metadata": {},
   "outputs": [],
   "source": [
    "#-------------------------------------------#"
   ]
  },
  {
   "cell_type": "code",
   "execution_count": null,
   "metadata": {},
   "outputs": [],
   "source": [
    "yearslist"
   ]
  },
  {
   "cell_type": "code",
   "execution_count": null,
   "metadata": {},
   "outputs": [],
   "source": [
    "monthslist[0]"
   ]
  },
  {
   "cell_type": "code",
   "execution_count": null,
   "metadata": {},
   "outputs": [],
   "source": [
    "count = 0 \n",
    "months = ''\n",
    "years = ''\n",
    "monthslist = []\n",
    "yearslist = []\n",
    "summarydict = {}\n",
    "while count < 84: \n",
    "    \n",
    "    monthslist.append((newdf['Month'][int(count)]) + ' '+ (newdf['Month'][int(count)+1]))\n",
    "    \n",
    "  \n",
    "    print(monthslist[count])\n",
    "    count = count + 1\n",
    "    #months = ''\n",
    "    years = ''"
   ]
  },
  {
   "cell_type": "code",
   "execution_count": null,
   "metadata": {},
   "outputs": [],
   "source": [
    "#Character Ranges for the current/following -> month[0:3] & [4:7]\n",
    "print(monthslist[1][0:3])\n",
    "print(monthslist[1][4:7])"
   ]
  },
  {
   "cell_type": "code",
   "execution_count": null,
   "metadata": {},
   "outputs": [],
   "source": [
    "yearslist\n",
    "new"
   ]
  },
  {
   "cell_type": "code",
   "execution_count": null,
   "metadata": {},
   "outputs": [],
   "source": [
    "#monthslist\n",
    "newmdf = pd.DataFrame(monthslist)\n",
    "newmdf.columns = ['Months']\n",
    "#yearslist\n",
    "newydf = pd.DataFrame(yearslist)\n",
    "newydf.columns = ['Years']"
   ]
  },
  {
   "cell_type": "code",
   "execution_count": null,
   "metadata": {},
   "outputs": [],
   "source": [
    "#newmdf\n",
    "#newydf\n",
    "newchangedf = pd.concat([newmdf,newydf,newdf['Change in Profits/Losses']], axis = 1, join = 'inner')"
   ]
  },
  {
   "cell_type": "code",
   "execution_count": null,
   "metadata": {},
   "outputs": [],
   "source": [
    "newchangedfI\n",
    "++"
   ]
  },
  {
   "cell_type": "code",
   "execution_count": null,
   "metadata": {},
   "outputs": [],
   "source": [
    "  # Financial Analysis\n",
    "    # ----------------------------\n",
    "   #  Total Months: 86\n",
    "   #  Total: $38382578\n",
    "  #   Average  Change: $-2315.12\n",
    "   #  Greatest Increase in Profits: Feb-2012 ($1- 926159)   \n",
    "  #   Greatest Decrease in Profits: Sep-2013 ($- 2196167)\n",
    "\n",
    "#In addition, your final script should both print the analysis to the terminal and export a text file with the results.\n",
    "\n",
    "\n"
   ]
  },
  {
   "cell_type": "markdown",
   "metadata": {},
   "source": [
    "#The net total amount of Change in \"Profit/Losses\" over the entire period\n",
    "\n",
    "counterE = 0 \n",
    "currval = origdfpl['Profits/Losses'][counterE]\n",
    "preval = 0 \n",
    "plchange = 0 \n",
    "while counterE < 85:\n",
    "    \n",
    "    nxtval = origdfpl['Profits/Losses'][counterE+1]\n",
    "    \n",
    "    plchange = float(nxtval) - currval\n",
    "    pllist.append(plchange)\n",
    "    counterE = counterE + 1\n",
    "    \n",
    "\n",
    "    nxtval = ''\n",
    "    plchange = 0 "
   ]
  },
  {
   "cell_type": "code",
   "execution_count": null,
   "metadata": {},
   "outputs": [],
   "source": []
  },
  {
   "cell_type": "code",
   "execution_count": null,
   "metadata": {},
   "outputs": [],
   "source": []
  },
  {
   "cell_type": "code",
   "execution_count": null,
   "metadata": {},
   "outputs": [],
   "source": []
  },
  {
   "cell_type": "code",
   "execution_count": null,
   "metadata": {},
   "outputs": [],
   "source": []
  },
  {
   "cell_type": "code",
   "execution_count": null,
   "metadata": {},
   "outputs": [],
   "source": []
  },
  {
   "cell_type": "code",
   "execution_count": null,
   "metadata": {},
   "outputs": [],
   "source": []
  },
  {
   "cell_type": "code",
   "execution_count": null,
   "metadata": {},
   "outputs": [],
   "source": []
  },
  {
   "cell_type": "code",
   "execution_count": null,
   "metadata": {},
   "outputs": [],
   "source": []
  },
  {
   "cell_type": "code",
   "execution_count": null,
   "metadata": {},
   "outputs": [],
   "source": []
  },
  {
   "cell_type": "code",
   "execution_count": null,
   "metadata": {},
   "outputs": [],
   "source": []
  },
  {
   "cell_type": "code",
   "execution_count": null,
   "metadata": {},
   "outputs": [],
   "source": []
  }
 ],
 "metadata": {
  "kernelspec": {
   "display_name": "Python 3",
   "language": "python",
   "name": "python3"
  },
  "language_info": {
   "codemirror_mode": {
    "name": "ipython",
    "version": 3
   },
   "file_extension": ".py",
   "mimetype": "text/x-python",
   "name": "python",
   "nbconvert_exporter": "python",
   "pygments_lexer": "ipython3",
   "version": "3.7.4"
  }
 },
 "nbformat": 4,
 "nbformat_minor": 2
}
