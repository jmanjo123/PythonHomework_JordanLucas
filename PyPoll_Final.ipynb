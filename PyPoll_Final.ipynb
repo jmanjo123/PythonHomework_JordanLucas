{
 "cells": [
  {
   "cell_type": "code",
   "execution_count": 1,
   "metadata": {},
   "outputs": [],
   "source": [
    "#The total number of votes cast\n",
    "    #A complete list of candidates who received votes\n",
    "      #The percentage of votes each candidate won\n",
    "          #The total number of votes each candidate won\n",
    "              #The winner of the election based on popular vote.\n",
    " #As an example, your analysis should look similar to the one below:\n",
    " # ```text\n",
    " # Election Results\n",
    " # -------------------------\n",
    " # Total Votes: 3521001\n",
    " # -------------------------\n",
    " # Khan: 63.000% (2218231)\n",
    " # Correy: 20.000% (704200)\n",
    " # Li: 14.000% (492940)\n",
    "#  O'Tooley: 3.000% (105630)\n",
    "#  -------------------------\n",
    " # Winner: Khan\n",
    " # -------------------------\n",
    "\n",
    "#In addition, your final script should both print the analysis to the terminal and export a text file with the results."
   ]
  },
  {
   "cell_type": "code",
   "execution_count": 2,
   "metadata": {},
   "outputs": [],
   "source": [
    "#Dependencies \n",
    "import csv\n",
    "import os\n",
    "import copy\n",
    "import math\n",
    "import statistics \n",
    "import pandas as pd\n",
    "import numpy as np"
   ]
  },
  {
   "cell_type": "markdown",
   "metadata": {},
   "source": [
    "#Finding Unique Values(Candidates Unaccounted For)\n",
    "def totalnum(data):"
   ]
  },
  {
   "cell_type": "markdown",
   "metadata": {},
   "source": [
    "#The total number of votes cast\n",
    "def totalnum(data):\n",
    "    total_votes = candidates_votes.values().sum() \n"
   ]
  },
  {
   "cell_type": "markdown",
   "metadata": {},
   "source": [
    "#A complete list of candidates who received votes\n",
    "def totalnum(data):\n",
    "    candidates_votes.show()  "
   ]
  },
  {
   "cell_type": "markdown",
   "metadata": {},
   "source": [
    "#The percentage of votes each candidate won\n",
    "def percentagevotes(data):\n",
    "    candidates_percent = ((candidates_votes.values())/total_votes) * 100\n",
    "    candidates_percent.show()         "
   ]
  },
  {
   "cell_type": "markdown",
   "metadata": {},
   "source": [
    "#The total number of votes each candidate won\n",
    "def totalnum(data):\n",
    "    candidates_votes.items() "
   ]
  },
  {
   "cell_type": "markdown",
   "metadata": {},
   "source": [
    "#The winner of the election based on popular vote.\n",
    "def winner(data):\n",
    "    winning_candidate = max(candidates_percent)\n",
    "    print(\"The winner of the Election is \",winning_candidate)"
   ]
  },
  {
   "cell_type": "markdown",
   "metadata": {},
   "source": [
    "#Finding the County Names\n",
    "def countys(data):"
   ]
  },
  {
   "cell_type": "code",
   "execution_count": 3,
   "metadata": {},
   "outputs": [],
   "source": [
    "#----------------------------------------\n",
    "#csv with the data - \"election_data.csv\"\n",
    "#----------------------------------------\n",
    "csvpath = 'C:/Users/jmanj/OneDrive/Desktop/Resources/election_data.csv'"
   ]
  },
  {
   "cell_type": "code",
   "execution_count": 4,
   "metadata": {},
   "outputs": [],
   "source": [
    "electiondata = []\n",
    "strconversion = ''\n",
    "with open(csvpath,newline = '') as csvfile:\n",
    "    \n",
    "    csvreader = csv.reader(csvfile,delimiter=\",\")\n",
    "    csvheader = next(csvreader)\n",
    "    \n",
    "    for row1 in csvreader: \n",
    "        electiondata.append(row1)\n"
   ]
  },
  {
   "cell_type": "code",
   "execution_count": 5,
   "metadata": {},
   "outputs": [
    {
     "data": {
      "text/html": [
       "<div>\n",
       "<style scoped>\n",
       "    .dataframe tbody tr th:only-of-type {\n",
       "        vertical-align: middle;\n",
       "    }\n",
       "\n",
       "    .dataframe tbody tr th {\n",
       "        vertical-align: top;\n",
       "    }\n",
       "\n",
       "    .dataframe thead th {\n",
       "        text-align: right;\n",
       "    }\n",
       "</style>\n",
       "<table border=\"1\" class=\"dataframe\">\n",
       "  <thead>\n",
       "    <tr style=\"text-align: right;\">\n",
       "      <th></th>\n",
       "      <th>Voter ID</th>\n",
       "      <th>County</th>\n",
       "      <th>Candidate</th>\n",
       "    </tr>\n",
       "  </thead>\n",
       "  <tbody>\n",
       "    <tr>\n",
       "      <td>0</td>\n",
       "      <td>12864552</td>\n",
       "      <td>Marsh</td>\n",
       "      <td>Khan</td>\n",
       "    </tr>\n",
       "    <tr>\n",
       "      <td>1</td>\n",
       "      <td>17444633</td>\n",
       "      <td>Marsh</td>\n",
       "      <td>Correy</td>\n",
       "    </tr>\n",
       "    <tr>\n",
       "      <td>2</td>\n",
       "      <td>19330107</td>\n",
       "      <td>Marsh</td>\n",
       "      <td>Khan</td>\n",
       "    </tr>\n",
       "    <tr>\n",
       "      <td>3</td>\n",
       "      <td>19865775</td>\n",
       "      <td>Queen</td>\n",
       "      <td>Khan</td>\n",
       "    </tr>\n",
       "    <tr>\n",
       "      <td>4</td>\n",
       "      <td>11927875</td>\n",
       "      <td>Marsh</td>\n",
       "      <td>Khan</td>\n",
       "    </tr>\n",
       "    <tr>\n",
       "      <td>...</td>\n",
       "      <td>...</td>\n",
       "      <td>...</td>\n",
       "      <td>...</td>\n",
       "    </tr>\n",
       "    <tr>\n",
       "      <td>1048570</td>\n",
       "      <td>15257733</td>\n",
       "      <td>Marsh</td>\n",
       "      <td>Khan</td>\n",
       "    </tr>\n",
       "    <tr>\n",
       "      <td>1048571</td>\n",
       "      <td>18621583</td>\n",
       "      <td>Marsh</td>\n",
       "      <td>Khan</td>\n",
       "    </tr>\n",
       "    <tr>\n",
       "      <td>1048572</td>\n",
       "      <td>15990024</td>\n",
       "      <td>Queen</td>\n",
       "      <td>Khan</td>\n",
       "    </tr>\n",
       "    <tr>\n",
       "      <td>1048573</td>\n",
       "      <td>11307924</td>\n",
       "      <td>Marsh</td>\n",
       "      <td>Khan</td>\n",
       "    </tr>\n",
       "    <tr>\n",
       "      <td>1048574</td>\n",
       "      <td>15590933</td>\n",
       "      <td>Marsh</td>\n",
       "      <td>Khan</td>\n",
       "    </tr>\n",
       "  </tbody>\n",
       "</table>\n",
       "<p>1048575 rows × 3 columns</p>\n",
       "</div>"
      ],
      "text/plain": [
       "         Voter ID County Candidate\n",
       "0        12864552  Marsh      Khan\n",
       "1        17444633  Marsh    Correy\n",
       "2        19330107  Marsh      Khan\n",
       "3        19865775  Queen      Khan\n",
       "4        11927875  Marsh      Khan\n",
       "...           ...    ...       ...\n",
       "1048570  15257733  Marsh      Khan\n",
       "1048571  18621583  Marsh      Khan\n",
       "1048572  15990024  Queen      Khan\n",
       "1048573  11307924  Marsh      Khan\n",
       "1048574  15590933  Marsh      Khan\n",
       "\n",
       "[1048575 rows x 3 columns]"
      ]
     },
     "execution_count": 5,
     "metadata": {},
     "output_type": "execute_result"
    }
   ],
   "source": [
    "electiondf = pd.DataFrame(electiondata)\n",
    "electiondf.columns = ['Voter ID', 'County', 'Candidate']\n",
    "electiondf"
   ]
  },
  {
   "cell_type": "code",
   "execution_count": 6,
   "metadata": {},
   "outputs": [
    {
     "data": {
      "text/plain": [
       "1048575"
      ]
     },
     "execution_count": 6,
     "metadata": {},
     "output_type": "execute_result"
    }
   ],
   "source": [
    "#The total number of votes cast\n",
    "totalvotescast = len(electiondf)\n",
    "totalvotescast"
   ]
  },
  {
   "cell_type": "code",
   "execution_count": 7,
   "metadata": {},
   "outputs": [],
   "source": [
    "CandidateVoteslist =[]\n",
    "#A complete list of candidates who received votes\n",
    "CandidateVoteslist.append(electiondf.Candidate.unique())\n",
    "CandidateVoteslist\n",
    "candidatedf = pd.DataFrame(CandidateVoteslist)"
   ]
  },
  {
   "cell_type": "code",
   "execution_count": 8,
   "metadata": {},
   "outputs": [
    {
     "data": {
      "text/html": [
       "<div>\n",
       "<style scoped>\n",
       "    .dataframe tbody tr th:only-of-type {\n",
       "        vertical-align: middle;\n",
       "    }\n",
       "\n",
       "    .dataframe tbody tr th {\n",
       "        vertical-align: top;\n",
       "    }\n",
       "\n",
       "    .dataframe thead th {\n",
       "        text-align: right;\n",
       "    }\n",
       "</style>\n",
       "<table border=\"1\" class=\"dataframe\">\n",
       "  <thead>\n",
       "    <tr style=\"text-align: right;\">\n",
       "      <th></th>\n",
       "      <th>0</th>\n",
       "      <th>1</th>\n",
       "      <th>2</th>\n",
       "      <th>3</th>\n",
       "    </tr>\n",
       "  </thead>\n",
       "  <tbody>\n",
       "    <tr>\n",
       "      <td>0</td>\n",
       "      <td>Khan</td>\n",
       "      <td>Correy</td>\n",
       "      <td>Li</td>\n",
       "      <td>O'Tooley</td>\n",
       "    </tr>\n",
       "  </tbody>\n",
       "</table>\n",
       "</div>"
      ],
      "text/plain": [
       "      0       1   2         3\n",
       "0  Khan  Correy  Li  O'Tooley"
      ]
     },
     "execution_count": 8,
     "metadata": {},
     "output_type": "execute_result"
    }
   ],
   "source": [
    "candidatedf"
   ]
  },
  {
   "cell_type": "code",
   "execution_count": 9,
   "metadata": {},
   "outputs": [
    {
     "data": {
      "text/plain": [
       "Khan        661583\n",
       "Correy      209046\n",
       "Li          146360\n",
       "O'Tooley     31586\n",
       "Name: Candidate, dtype: int64"
      ]
     },
     "execution_count": 9,
     "metadata": {},
     "output_type": "execute_result"
    }
   ],
   "source": [
    "totalcandidatevotes = electiondf['Candidate'].value_counts()\n",
    "totalcandidatevotes"
   ]
  },
  {
   "cell_type": "code",
   "execution_count": 10,
   "metadata": {},
   "outputs": [
    {
     "data": {
      "text/plain": [
       "[63.09353169778033, 19.93619912738717, 13.957990606299026, 3.0122785685334863]"
      ]
     },
     "execution_count": 10,
     "metadata": {},
     "output_type": "execute_result"
    }
   ],
   "source": [
    "#The percentage of votes each candidate won\n",
    "counter = 0 \n",
    "votes = 0\n",
    "totalcdf = []\n",
    "percentagevotes = 0\n",
    "\n",
    "while counter < 4: \n",
    "    votes = totalcandidatevotes[counter]\n",
    "    percentagevotes = (votes/totalvotescast) * 100\n",
    "    totalcdf.append(percentagevotes)\n",
    "    \n",
    "    votes = 0\n",
    "    percentagevotes = 0\n",
    "    counter = counter + 1\n",
    "totalcdf"
   ]
  },
  {
   "cell_type": "code",
   "execution_count": 11,
   "metadata": {},
   "outputs": [
    {
     "data": {
      "text/plain": [
       "[661583.0, 209046.0, 146360.0, 31586.000000000004]"
      ]
     },
     "execution_count": 11,
     "metadata": {},
     "output_type": "execute_result"
    }
   ],
   "source": [
    "#The total number of votes each candidate won/countys\n",
    "totalnum = []\n",
    "for num1  in totalcdf: \n",
    "    totalnum.append((num1/100)*totalvotescast)\n",
    "totalnum"
   ]
  },
  {
   "cell_type": "code",
   "execution_count": 12,
   "metadata": {},
   "outputs": [
    {
     "data": {
      "text/html": [
       "<div>\n",
       "<style scoped>\n",
       "    .dataframe tbody tr th:only-of-type {\n",
       "        vertical-align: middle;\n",
       "    }\n",
       "\n",
       "    .dataframe tbody tr th {\n",
       "        vertical-align: top;\n",
       "    }\n",
       "\n",
       "    .dataframe thead th {\n",
       "        text-align: right;\n",
       "    }\n",
       "</style>\n",
       "<table border=\"1\" class=\"dataframe\">\n",
       "  <thead>\n",
       "    <tr style=\"text-align: right;\">\n",
       "      <th></th>\n",
       "      <th>Voter ID</th>\n",
       "      <th>County</th>\n",
       "      <th>Candidate</th>\n",
       "    </tr>\n",
       "  </thead>\n",
       "  <tbody>\n",
       "    <tr>\n",
       "      <td>count</td>\n",
       "      <td>1048575</td>\n",
       "      <td>1048575</td>\n",
       "      <td>1048575</td>\n",
       "    </tr>\n",
       "    <tr>\n",
       "      <td>unique</td>\n",
       "      <td>1048575</td>\n",
       "      <td>5</td>\n",
       "      <td>4</td>\n",
       "    </tr>\n",
       "    <tr>\n",
       "      <td>top</td>\n",
       "      <td>10228980</td>\n",
       "      <td>Marsh</td>\n",
       "      <td>Khan</td>\n",
       "    </tr>\n",
       "    <tr>\n",
       "      <td>freq</td>\n",
       "      <td>1</td>\n",
       "      <td>674717</td>\n",
       "      <td>661583</td>\n",
       "    </tr>\n",
       "  </tbody>\n",
       "</table>\n",
       "</div>"
      ],
      "text/plain": [
       "        Voter ID   County Candidate\n",
       "count    1048575  1048575   1048575\n",
       "unique   1048575        5         4\n",
       "top     10228980    Marsh      Khan\n",
       "freq           1   674717    661583"
      ]
     },
     "execution_count": 12,
     "metadata": {},
     "output_type": "execute_result"
    }
   ],
   "source": [
    "#The winner of the election based on popular vote.\n",
    "electiondf.describe()"
   ]
  },
  {
   "cell_type": "code",
   "execution_count": 13,
   "metadata": {},
   "outputs": [],
   "source": [
    "#In addition, your final script should both print the analysis to the terminal and export a text file with the results.\n"
   ]
  }
 ],
 "metadata": {
  "kernelspec": {
   "display_name": "Python 3",
   "language": "python",
   "name": "python3"
  },
  "language_info": {
   "codemirror_mode": {
    "name": "ipython",
    "version": 3
   },
   "file_extension": ".py",
   "mimetype": "text/x-python",
   "name": "python",
   "nbconvert_exporter": "python",
   "pygments_lexer": "ipython3",
   "version": "3.7.4"
  }
 },
 "nbformat": 4,
 "nbformat_minor": 2
}
